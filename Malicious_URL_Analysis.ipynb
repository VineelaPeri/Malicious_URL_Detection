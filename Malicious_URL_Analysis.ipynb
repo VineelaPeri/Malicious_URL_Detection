{
 "cells": [
  {
   "cell_type": "code",
   "execution_count": 72,
   "metadata": {
    "collapsed": true
   },
   "outputs": [],
   "source": [
    "import pandas as pd\n",
    "import numpy as np\n",
    "import os\n",
    "import re\n",
    "import matplotlib.pyplot as plt\n",
    "import seaborn as sns\n",
    "from scipy import stats\n",
    "from urllib.parse import urlparse\n",
    "import scipy.stats\n",
    "%matplotlib inline\n",
    "cwd = os.getcwd()#To access the path of current working directory\n",
    "path=cwd+\"/\"+\"data\"+\"/\""
   ]
  },
  {
   "cell_type": "code",
   "execution_count": 73,
   "metadata": {},
   "outputs": [
    {
     "data": {
      "text/html": [
       "<div>\n",
       "<style>\n",
       "    .dataframe thead tr:only-child th {\n",
       "        text-align: right;\n",
       "    }\n",
       "\n",
       "    .dataframe thead th {\n",
       "        text-align: left;\n",
       "    }\n",
       "\n",
       "    .dataframe tbody tr th {\n",
       "        vertical-align: top;\n",
       "    }\n",
       "</style>\n",
       "<table border=\"1\" class=\"dataframe\">\n",
       "  <thead>\n",
       "    <tr style=\"text-align: right;\">\n",
       "      <th></th>\n",
       "      <th>url</th>\n",
       "      <th>malicious</th>\n",
       "    </tr>\n",
       "  </thead>\n",
       "  <tbody>\n",
       "    <tr>\n",
       "      <th>0</th>\n",
       "      <td>http://www.facebook-log1in.com/</td>\n",
       "      <td>1</td>\n",
       "    </tr>\n",
       "    <tr>\n",
       "      <th>1</th>\n",
       "      <td>http://getir.net/yg4t</td>\n",
       "      <td>1</td>\n",
       "    </tr>\n",
       "    <tr>\n",
       "      <th>2</th>\n",
       "      <td>http://crosscitydental.com/</td>\n",
       "      <td>0</td>\n",
       "    </tr>\n",
       "    <tr>\n",
       "      <th>3</th>\n",
       "      <td>http://www.tenttrails.com/jscripts/product.js</td>\n",
       "      <td>0</td>\n",
       "    </tr>\n",
       "    <tr>\n",
       "      <th>4</th>\n",
       "      <td>http://103.224.193.105/</td>\n",
       "      <td>0</td>\n",
       "    </tr>\n",
       "  </tbody>\n",
       "</table>\n",
       "</div>"
      ],
      "text/plain": [
       "                                             url  malicious\n",
       "0                http://www.facebook-log1in.com/          1\n",
       "1                          http://getir.net/yg4t          1\n",
       "2                    http://crosscitydental.com/          0\n",
       "3  http://www.tenttrails.com/jscripts/product.js          0\n",
       "4                        http://103.224.193.105/          0"
      ]
     },
     "execution_count": 73,
     "metadata": {},
     "output_type": "execute_result"
    }
   ],
   "source": [
    "data=pd.read_csv(path +\"sample_100k.csv\")\n",
    "data.head()\n",
    "df=data\n",
    "df.head()\n"
   ]
  },
  {
   "cell_type": "code",
   "execution_count": 74,
   "metadata": {
    "collapsed": true
   },
   "outputs": [],
   "source": [
    "#2016's top most suspicious TLD and words\n",
    "Suspicious_TLD=['zip','cricket','link','work','party','gq','kim','country','science','tk']\n",
    "Suspicious_Domain=['luckytime.co.kr','mattfoll.eu.interia.pl','trafficholder.com','dl.baixaki.com.br','bembed.redtube.comr','tags.expo9.exponential.com','deepspacer.com','funad.co.kr','trafficconverter.biz']\n",
    "delim=['-','.','_','~',':','/','?','#','[',']','@','!','$','&,''','(',')','*','+',',',';','=','`','.']\n",
    "#trend micro's top malicious domains"
   ]
  },
  {
   "cell_type": "markdown",
   "metadata": {
    "collapsed": true
   },
   "source": [
    "## Implementing methods to generate Lexical Features "
   ]
  },
  {
   "cell_type": "code",
   "execution_count": 75,
   "metadata": {
    "collapsed": true
   },
   "outputs": [],
   "source": [
    "# Method to count number of dots\n",
    "def countdots(url):  \n",
    "    return url.count('.')\n",
    "# Method to count number of delimeters\n",
    "def countdelim(url):\n",
    "    count = 0\n",
    "    delim=[';','_','?','=','&']\n",
    "    for each in url:\n",
    "        if each in delim:\n",
    "            count = count + 1\n",
    "    \n",
    "    return count\n",
    "# Is IP addr present as th hostname, let's validate\n",
    "\n",
    "import ipaddress as ip #works only in python 3\n",
    "\n",
    "def isip(uri):\n",
    "    try:\n",
    "        if ip.ip_address(uri):\n",
    "            return 1\n",
    "    except:\n",
    "        return 0\n",
    "#method to check the presence of hyphens\n",
    "\n",
    "def isPresentHyphen(url):\n",
    "    return url.count('-')\n",
    "#method to check the presence of @\n",
    "\n",
    "def isPresentAt(url):\n",
    "    return url.count('@')\n",
    "#method to check the presence of DoubleSlash\n",
    "def isPresentDSlash(url):\n",
    "    return url.count('//')\n",
    "#method to count subdirectories \n",
    "def countSubDir(url):\n",
    "    return url.count('/')\n",
    "\n",
    "def get_ext(url):\n",
    "    \"\"\"Return the filename extension from url, or ''.\"\"\"\n",
    "    \n",
    "    root, ext = splitext(url)\n",
    "    return ext\n",
    "#method to count subdomains \n",
    "def countSubDomain(subdomain):\n",
    "    if not subdomain:\n",
    "        return 0\n",
    "    else:\n",
    "        return len(subdomain.split('.'))\n",
    "#method to count queries   \n",
    "def countQueries(query):\n",
    "    if not query:\n",
    "        return 0\n",
    "    else:\n",
    "        return len(query.split('&'))\n",
    "    \n",
    "#method to count special_chars   \n",
    "def special_chars(url):\n",
    "    count=0\n",
    "    for i in url:\n",
    "        if not i.isalnum():\n",
    "                count=count+1\n",
    "    return count\n",
    "  \n",
    "#method to calculate ratio of special_chars  \n",
    "def ratio_special_chars(url):\n",
    "    count=special_chars(url)\n",
    "    return float(count)/float(len(url))\n",
    "\n"
   ]
  },
  {
   "cell_type": "code",
   "execution_count": 76,
   "metadata": {
    "collapsed": true
   },
   "outputs": [],
   "source": [
    "def subDomain(url):\n",
    "        'check if Ternary'\n",
    "        isMultipleDomains = '0'\n",
    "        try:\n",
    "            hostStart = url.index(\"//\")\n",
    "            hostEnd = url.index(\"/\", hostStart + 2)\n",
    "        except:\n",
    "            hostEnd = len(url)\n",
    "        host = url[hostStart + 2:hostEnd]\n",
    "        #including www., if the dots are greater than 3, then High!\n",
    "        count = str(host).count('.')\n",
    "        if count < 3:\n",
    "            isMultipleDomains = '0'\n",
    "        elif count == 3:\n",
    "            isMultipleDomains = '1'\n",
    "        else:\n",
    "            isMultipleDomains = '2'\n",
    "\n",
    "        return isMultipleDomains\n",
    "\n",
    "def topLevelDomainCount(url):\n",
    "        'counts the occurences of top level domains by matching regular expressions'\n",
    "        topLevelDomain = '0'\n",
    "        try:\n",
    "            hostStart = url.index(\"//\")\n",
    "            hostEnd = url.index(\"/\", hostStart + 2)\n",
    "        except:\n",
    "            hostEnd = len(url)\n",
    "\n",
    "        path = url[hostEnd+1:]\n",
    "        m = re.compile(r'\\.([^.\\n\\s]*)$', re.M)\n",
    "        f = re.findall(m, path)\n",
    "        if len(f) > 0:\n",
    "            topLevelDomain = '1'\n",
    "\n",
    "        return topLevelDomain\n",
    "\n",
    "def suspicousWords(url):\n",
    "        'Counts certain suspicious words....'\n",
    "        haveSuspicious = '0'\n",
    "        suspicousDatabase = [\"confirm\",\"account\",\"secure\",\"viagra\",\"webscr\",\"login\",\"signin\",\"submit\",\"update\",\"logon\",\"wp\",\"cmd\",\"admin\",\"condom\"]\n",
    "        count=0\n",
    "        for everySuspiciousKeyword in suspicousDatabase:\n",
    "            if everySuspiciousKeyword in url:\n",
    "                count+=1\n",
    "        if count>1:\n",
    "            haveSuspicious = '1'\n",
    "        return haveSuspicious\n",
    "\n",
    "def isLongURL(url):\n",
    "        'Consult for Ternary Values'\n",
    "        isLongURL = '0'\n",
    "        if len(url) < 54:\n",
    "            isLongURL = '0'\n",
    "        elif len(url) >= 54 and len(url) <=75:\n",
    "            isLongURL = '1'\n",
    "        else:\n",
    "            isLongURL = '2'\n",
    "        return isLongURL\n",
    "    \n",
    "def digitsInDomain(url):\n",
    "        isDigits = 0\n",
    "        try:\n",
    "            hostStart = url.index(\"//\")\n",
    "            hostEnd = url.index(\"/\", hostStart + 2)\n",
    "        except:\n",
    "            hostEnd = len(url)\n",
    "        try:\n",
    "            host = url[hostStart + 2:hostEnd]\n",
    "            numbers = re.search(r'\\d+', host).group()\n",
    "        except:\n",
    "            #no numbers found\n",
    "            numbers = '0'\n",
    "            isDigits = 0\n",
    "\n",
    "        if numbers > '0':\n",
    "            isDigits = 1\n",
    "        return isDigits\n",
    "\n",
    "def getCharacterFrequency(url):\n",
    "        import collections\n",
    "        freq = collections.Counter(url)\n",
    "        freqSorted = sorted(freq.items())\n",
    "        freqList = []\n",
    "        for i in range(0, 26):\n",
    "            freqList.append(0)\n",
    "        for key, value in freqSorted:\n",
    "            if key.isalpha():\n",
    "                #check for\n",
    "                freqList[ord(key.lower()) - 97] = int(value)\n",
    "                \n",
    "        return freqList\n",
    "\n",
    "def getEntropy(url):\n",
    "        freqList = getCharacterFrequency(url)\n",
    "        entropy = scipy.stats.entropy(freqList)\n",
    "        return entropy\n",
    "\n",
    "def getKLDivergence(url):\n",
    "        freqEnglish = [8.12, 1.49, 2.71, 4.32, 12.02, 2.30, 2.03, 5.92, 7.31, 0.10, 0.69, 3.98, 2.61, 6.95, 7.68, 1.82, 0.11,\n",
    "             6.02, 6.28, 9.10, 2.98, 1.11, 2.09, 0.17, 2.11, 0.07]\n",
    "        freqList = getCharacterFrequency(url)\n",
    "        kld = scipy.stats.entropy(freqList,freqEnglish)\n",
    "        return kld"
   ]
  },
  {
   "cell_type": "code",
   "execution_count": 77,
   "metadata": {
    "collapsed": true
   },
   "outputs": [],
   "source": [
    "featureExtract = pd.DataFrame(columns=('url','DotsInUrl','countdelim','DotsInSubdomain','presence of hyphen','len of url','presence of at',\\\n",
    "'presence of double slash','no of subdir','no of subdomain','len of domain','no of queries','is IP','presence of Suspicious_TLD',\\\n",
    "'presence of suspicious domain','No of special_chars','ratio_special_chars','validateIPAddress','subDomain','topLevelDomainCount','suspicousWords',\\\n",
    " 'getCharacterFrequency','digitsInDomain','getEntropy','getKLDivergence' ,'label'))\n"
   ]
  },
  {
   "cell_type": "code",
   "execution_count": 78,
   "metadata": {
    "collapsed": true
   },
   "outputs": [],
   "source": [
    "#featureExtract = pd.DataFrame(columns=('url','DotsInUrl','countdelim','DotsInSubdomain','Presence_Of_hyphen','URLLength','Presence_Of_AT',\\\n",
    "#'Presence_Of_double_slash','No_Of_Subdir','No_Of_SubDomain','DomainLength','No_Of_Queries','isIP','Presence_Of_Suspicious_TLD',\\\n",
    "#'Presence_Of_Suspicious_Domain','No_Of_special_chars','ratio_special_chars','isMultipleDomains','topLevelDomainCount','suspicousWords',\\\n",
    "# 'digitsInDomain','isLongURL','getEntropy','getKLDivergence' ,'label'))\n"
   ]
  },
  {
   "cell_type": "code",
   "execution_count": 79,
   "metadata": {
    "collapsed": true
   },
   "outputs": [],
   "source": [
    "from urllib.parse import urlparse\n",
    "import tldextract\n",
    "def getFeaturesLexical(url, label): \n",
    "    result = []\n",
    "    url = str(url)\n",
    "    \n",
    "    #add the url to feature set\n",
    "    result.append(url)\n",
    "    \n",
    "    #parse the URL and extract the domain information\n",
    "    path = urlparse(url)\n",
    "    ext = tldextract.extract(url)\n",
    "    #counting number of dots\n",
    "    result.append(countdots(url))\n",
    "    #counting number of delim\n",
    "    result.append(countdelim(url))\n",
    "    #counting number of dots in subdomain    \n",
    "    result.append(countdots(ext.subdomain))\n",
    "    \n",
    "    #checking hyphen in domain   \n",
    "    result.append(isPresentHyphen(path.netloc))\n",
    "    \n",
    "    #length of URL    \n",
    "    result.append(len(url))\n",
    "    \n",
    "    #checking @ in the url    \n",
    "    result.append(isPresentAt(path.netloc))\n",
    "    \n",
    "    #checking presence of double slash    \n",
    "    result.append(isPresentDSlash(path.path))\n",
    "    \n",
    "    #Count number of subdir    \n",
    "    result.append(countSubDir(path.path))\n",
    "    \n",
    "    #number of sub domain    \n",
    "    result.append(countSubDomain(ext.subdomain))\n",
    "    \n",
    "    #length of domain name    \n",
    "    result.append(len(path.netloc))\n",
    "    \n",
    "    #count number of queries    \n",
    "    result.append(len(path.query))\n",
    "    \n",
    "    #Adding domain information\n",
    "    \n",
    "    #if IP address is being used as a URL     \n",
    "    result.append(isip(ext.domain))\n",
    "    \n",
    "    #presence of Suspicious_TLD\n",
    "    result.append(1 if ext.suffix in Suspicious_TLD else 0)\n",
    "    \n",
    "    #presence of suspicious domain\n",
    "    result.append(1 if '.'.join(ext[1:]) in Suspicious_Domain else 0 )\n",
    "    \n",
    "    #Number of special characters in URL\n",
    "    result.append(special_chars(url))\n",
    "    \n",
    "    #ratio of special characters in URL\n",
    "    result.append(ratio_special_chars(url))\n",
    "    \n",
    "    #subDomain\n",
    "    result.append(subDomain(url))\n",
    "     \n",
    "    #TopLevelDomain\n",
    "    result.append(topLevelDomainCount(url))\n",
    "    \n",
    "    #Suspicious words\n",
    "    result.append(suspicousWords(url))\n",
    "    \n",
    "    #Digits in Domain\n",
    "    result.append(digitsInDomain(url))\n",
    "    \n",
    "    #IsLongURL\n",
    "    result.append(isLongURL(url))\n",
    "    \n",
    "    #Character Frequency\n",
    "    result.append(getCharacterFrequency(url))\n",
    "    \n",
    "    #Entropy\n",
    "    result.append(getEntropy(url))\n",
    "    \n",
    "    #KL divergence\n",
    "    result.append(getKLDivergence(url))\n",
    "    \n",
    "        \n",
    "    result.append(str(label))\n",
    "    return result"
   ]
  },
  {
   "cell_type": "code",
   "execution_count": 80,
   "metadata": {
    "collapsed": true
   },
   "outputs": [],
   "source": [
    "def getFeaturesLexicalTest(url, label): \n",
    "    result = []\n",
    "    url = str(url)\n",
    "    \n",
    "    #add the url to feature set\n",
    "    result.append(url)\n",
    "    \n",
    "    #parse the URL and extract the domain information\n",
    "    path = urlparse(url)\n",
    "    ext = tldextract.extract(url)\n",
    "    #counting number of dots\n",
    "    result.append(countdots(url))\n",
    "    #counting number of delim\n",
    "    result.append(countdelim(url))\n",
    "    #counting number of dots in subdomain    \n",
    "    result.append(countdots(ext.subdomain))\n",
    "    \n",
    "    #checking hyphen in domain   \n",
    "    result.append(isPresentHyphen(path.netloc))\n",
    "    \n",
    "    #length of URL    \n",
    "    result.append(len(url))\n",
    "    \n",
    "    #checking @ in the url    \n",
    "    result.append(isPresentAt(path.netloc))\n",
    "    \n",
    "    #checking presence of double slash    \n",
    "    result.append(isPresentDSlash(path.path))\n",
    "    \n",
    "    #Count number of subdir    \n",
    "    result.append(countSubDir(path.path))\n",
    "    \n",
    "    #number of sub domain    \n",
    "    result.append(countSubDomain(ext.subdomain))\n",
    "    \n",
    "    #length of domain name    \n",
    "    result.append(len(path.netloc))\n",
    "    \n",
    "    #count number of queries    \n",
    "    result.append(len(path.query))\n",
    "    \n",
    "    #Adding domain information\n",
    "    \n",
    "    #if IP address is being used as a URL     \n",
    "   # result.append(isip(ext.domain))\n",
    "    \n",
    "    #presence of Suspicious_TLD\n",
    "    result.append(1 if ext.suffix in Suspicious_TLD else 0)\n",
    "    \n",
    "    #presence of suspicious domain\n",
    "    result.append(1 if '.'.join(ext[1:]) in Suspicious_Domain else 0 )\n",
    "    \n",
    "    #Number of special characters in URL\n",
    "    result.append(special_chars(url))\n",
    "    \n",
    "    #ratio of special characters in URL\n",
    "    result.append(ratio_special_chars(url))\n",
    "    \n",
    "    #subDomain\n",
    "    result.append(subDomain(url))\n",
    "     \n",
    "    #TopLevelDomain\n",
    "    result.append(topLevelDomainCount(url))\n",
    "    \n",
    "    #Suspicious words\n",
    "    result.append(suspicousWords(url))\n",
    "    \n",
    "    #Digits in Domain\n",
    "    result.append(digitsInDomain(url))\n",
    "    \n",
    "    #IsLongURL\n",
    "    result.append(isLongURL(url))\n",
    "    \n",
    "    #Character Frequency\n",
    "    result.append(getCharacterFrequency(url))\n",
    "    \n",
    "    #Entropy\n",
    "    result.append(getEntropy(url))\n",
    "    \n",
    "    #KL divergence\n",
    "    result.append(getKLDivergence(url))\n",
    "    \n",
    "        \n",
    "    result.append(str(label))\n",
    "    return result"
   ]
  },
  {
   "cell_type": "markdown",
   "metadata": {},
   "source": [
    "### Creating a Dataframe with all the features."
   ]
  },
  {
   "cell_type": "code",
   "execution_count": 81,
   "metadata": {},
   "outputs": [
    {
     "ename": "IndexError",
     "evalue": "list assignment index out of range",
     "output_type": "error",
     "traceback": [
      "\u001b[0;31m---------------------------------------------------------------------------\u001b[0m",
      "\u001b[0;31mIndexError\u001b[0m                                Traceback (most recent call last)",
      "\u001b[0;32m<ipython-input-81-c8fa91b5a566>\u001b[0m in \u001b[0;36m<module>\u001b[0;34m()\u001b[0m\n\u001b[1;32m      1\u001b[0m \u001b[0;32mfor\u001b[0m \u001b[0mi\u001b[0m \u001b[0;32min\u001b[0m \u001b[0mrange\u001b[0m\u001b[0;34m(\u001b[0m\u001b[0mlen\u001b[0m\u001b[0;34m(\u001b[0m\u001b[0mdf\u001b[0m\u001b[0;34m)\u001b[0m\u001b[0;34m)\u001b[0m\u001b[0;34m:\u001b[0m\u001b[0;34m\u001b[0m\u001b[0m\n\u001b[0;32m----> 2\u001b[0;31m     \u001b[0mfeatures\u001b[0m \u001b[0;34m=\u001b[0m \u001b[0mgetFeaturesLexical\u001b[0m\u001b[0;34m(\u001b[0m\u001b[0mdf\u001b[0m\u001b[0;34m[\u001b[0m\u001b[0;34m\"url\"\u001b[0m\u001b[0;34m]\u001b[0m\u001b[0;34m.\u001b[0m\u001b[0mloc\u001b[0m\u001b[0;34m[\u001b[0m\u001b[0mi\u001b[0m\u001b[0;34m]\u001b[0m\u001b[0;34m,\u001b[0m \u001b[0mdf\u001b[0m\u001b[0;34m[\u001b[0m\u001b[0;34m\"malicious\"\u001b[0m\u001b[0;34m]\u001b[0m\u001b[0;34m.\u001b[0m\u001b[0mloc\u001b[0m\u001b[0;34m[\u001b[0m\u001b[0mi\u001b[0m\u001b[0;34m]\u001b[0m\u001b[0;34m)\u001b[0m\u001b[0;34m\u001b[0m\u001b[0m\n\u001b[0m\u001b[1;32m      3\u001b[0m     \u001b[0mfeatureExtract\u001b[0m\u001b[0;34m.\u001b[0m\u001b[0mloc\u001b[0m\u001b[0;34m[\u001b[0m\u001b[0mi\u001b[0m\u001b[0;34m]\u001b[0m \u001b[0;34m=\u001b[0m \u001b[0mfeatures\u001b[0m\u001b[0;34m\u001b[0m\u001b[0m\n",
      "\u001b[0;32m<ipython-input-79-05960f263a12>\u001b[0m in \u001b[0;36mgetFeaturesLexical\u001b[0;34m(url, label)\u001b[0m\n\u001b[1;32m     75\u001b[0m \u001b[0;34m\u001b[0m\u001b[0m\n\u001b[1;32m     76\u001b[0m     \u001b[0;31m#Character Frequency\u001b[0m\u001b[0;34m\u001b[0m\u001b[0;34m\u001b[0m\u001b[0m\n\u001b[0;32m---> 77\u001b[0;31m     \u001b[0mresult\u001b[0m\u001b[0;34m.\u001b[0m\u001b[0mappend\u001b[0m\u001b[0;34m(\u001b[0m\u001b[0mgetCharacterFrequency\u001b[0m\u001b[0;34m(\u001b[0m\u001b[0murl\u001b[0m\u001b[0;34m)\u001b[0m\u001b[0;34m)\u001b[0m\u001b[0;34m\u001b[0m\u001b[0m\n\u001b[0m\u001b[1;32m     78\u001b[0m \u001b[0;34m\u001b[0m\u001b[0m\n\u001b[1;32m     79\u001b[0m     \u001b[0;31m#Entropy\u001b[0m\u001b[0;34m\u001b[0m\u001b[0;34m\u001b[0m\u001b[0m\n",
      "\u001b[0;32m<ipython-input-76-8f172e24eb9c>\u001b[0m in \u001b[0;36mgetCharacterFrequency\u001b[0;34m(url)\u001b[0m\n\u001b[1;32m     88\u001b[0m             \u001b[0;32mif\u001b[0m \u001b[0mkey\u001b[0m\u001b[0;34m.\u001b[0m\u001b[0misalpha\u001b[0m\u001b[0;34m(\u001b[0m\u001b[0;34m)\u001b[0m\u001b[0;34m:\u001b[0m\u001b[0;34m\u001b[0m\u001b[0m\n\u001b[1;32m     89\u001b[0m                 \u001b[0;31m#check for\u001b[0m\u001b[0;34m\u001b[0m\u001b[0;34m\u001b[0m\u001b[0m\n\u001b[0;32m---> 90\u001b[0;31m                 \u001b[0mfreqList\u001b[0m\u001b[0;34m[\u001b[0m\u001b[0mord\u001b[0m\u001b[0;34m(\u001b[0m\u001b[0mkey\u001b[0m\u001b[0;34m.\u001b[0m\u001b[0mlower\u001b[0m\u001b[0;34m(\u001b[0m\u001b[0;34m)\u001b[0m\u001b[0;34m)\u001b[0m \u001b[0;34m-\u001b[0m \u001b[0;36m97\u001b[0m\u001b[0;34m]\u001b[0m \u001b[0;34m=\u001b[0m \u001b[0mint\u001b[0m\u001b[0;34m(\u001b[0m\u001b[0mvalue\u001b[0m\u001b[0;34m)\u001b[0m\u001b[0;34m\u001b[0m\u001b[0m\n\u001b[0m\u001b[1;32m     91\u001b[0m \u001b[0;34m\u001b[0m\u001b[0m\n\u001b[1;32m     92\u001b[0m         \u001b[0;32mreturn\u001b[0m \u001b[0mfreqList\u001b[0m\u001b[0;34m\u001b[0m\u001b[0m\n",
      "\u001b[0;31mIndexError\u001b[0m: list assignment index out of range"
     ]
    }
   ],
   "source": [
    "for i in range(len(df)):\n",
    "    features = getFeaturesLexical(df[\"url\"].loc[i], df[\"malicious\"].loc[i])    \n",
    "    featureExtract.loc[i] = features"
   ]
  },
  {
   "cell_type": "code",
   "execution_count": 61,
   "metadata": {},
   "outputs": [
    {
     "data": {
      "text/html": [
       "<div>\n",
       "<style>\n",
       "    .dataframe thead tr:only-child th {\n",
       "        text-align: right;\n",
       "    }\n",
       "\n",
       "    .dataframe thead th {\n",
       "        text-align: left;\n",
       "    }\n",
       "\n",
       "    .dataframe tbody tr th {\n",
       "        vertical-align: top;\n",
       "    }\n",
       "</style>\n",
       "<table border=\"1\" class=\"dataframe\">\n",
       "  <thead>\n",
       "    <tr style=\"text-align: right;\">\n",
       "      <th></th>\n",
       "      <th>url</th>\n",
       "      <th>DotsInUrl</th>\n",
       "      <th>countdelim</th>\n",
       "      <th>DotsInSubdomain</th>\n",
       "      <th>presence of hyphen</th>\n",
       "      <th>len of url</th>\n",
       "      <th>presence of at</th>\n",
       "      <th>presence of double slash</th>\n",
       "      <th>no of subdir</th>\n",
       "      <th>no of subdomain</th>\n",
       "      <th>...</th>\n",
       "      <th>ratio_special_chars</th>\n",
       "      <th>validateIPAddress</th>\n",
       "      <th>subDomain</th>\n",
       "      <th>topLevelDomainCount</th>\n",
       "      <th>suspicousWords</th>\n",
       "      <th>getCharacterFrequency</th>\n",
       "      <th>digitsInDomain</th>\n",
       "      <th>getEntropy</th>\n",
       "      <th>getKLDivergence</th>\n",
       "      <th>label</th>\n",
       "    </tr>\n",
       "  </thead>\n",
       "  <tbody>\n",
       "    <tr>\n",
       "      <th>0</th>\n",
       "      <td>http://www.facebook-log1in.com/</td>\n",
       "      <td>2</td>\n",
       "      <td>0</td>\n",
       "      <td>0</td>\n",
       "      <td>1</td>\n",
       "      <td>31</td>\n",
       "      <td>0</td>\n",
       "      <td>0</td>\n",
       "      <td>1</td>\n",
       "      <td>1</td>\n",
       "      <td>...</td>\n",
       "      <td>0.225806</td>\n",
       "      <td>0</td>\n",
       "      <td>0</td>\n",
       "      <td>0</td>\n",
       "      <td>1</td>\n",
       "      <td>0</td>\n",
       "      <td>[1, 1, 2, 0, 1, 1, 1, 1, 1, 0, 1, 1, 1, 1, 4, ...</td>\n",
       "      <td>2.630555</td>\n",
       "      <td>0.602829</td>\n",
       "      <td>1</td>\n",
       "    </tr>\n",
       "    <tr>\n",
       "      <th>1</th>\n",
       "      <td>http://getir.net/yg4t</td>\n",
       "      <td>1</td>\n",
       "      <td>0</td>\n",
       "      <td>0</td>\n",
       "      <td>0</td>\n",
       "      <td>21</td>\n",
       "      <td>0</td>\n",
       "      <td>0</td>\n",
       "      <td>1</td>\n",
       "      <td>0</td>\n",
       "      <td>...</td>\n",
       "      <td>0.238095</td>\n",
       "      <td>0</td>\n",
       "      <td>0</td>\n",
       "      <td>0</td>\n",
       "      <td>0</td>\n",
       "      <td>0</td>\n",
       "      <td>[0, 0, 0, 0, 2, 0, 2, 1, 1, 0, 0, 0, 0, 1, 0, ...</td>\n",
       "      <td>1.986732</td>\n",
       "      <td>0.867503</td>\n",
       "      <td>1</td>\n",
       "    </tr>\n",
       "    <tr>\n",
       "      <th>2</th>\n",
       "      <td>http://crosscitydental.com/</td>\n",
       "      <td>1</td>\n",
       "      <td>0</td>\n",
       "      <td>0</td>\n",
       "      <td>0</td>\n",
       "      <td>27</td>\n",
       "      <td>0</td>\n",
       "      <td>0</td>\n",
       "      <td>1</td>\n",
       "      <td>0</td>\n",
       "      <td>...</td>\n",
       "      <td>0.185185</td>\n",
       "      <td>0</td>\n",
       "      <td>0</td>\n",
       "      <td>0</td>\n",
       "      <td>0</td>\n",
       "      <td>0</td>\n",
       "      <td>[1, 0, 3, 1, 1, 0, 0, 1, 1, 0, 0, 1, 1, 1, 2, ...</td>\n",
       "      <td>2.563151</td>\n",
       "      <td>0.369844</td>\n",
       "      <td>0</td>\n",
       "    </tr>\n",
       "    <tr>\n",
       "      <th>3</th>\n",
       "      <td>http://www.tenttrails.com/jscripts/product.js</td>\n",
       "      <td>3</td>\n",
       "      <td>0</td>\n",
       "      <td>0</td>\n",
       "      <td>0</td>\n",
       "      <td>45</td>\n",
       "      <td>0</td>\n",
       "      <td>0</td>\n",
       "      <td>2</td>\n",
       "      <td>1</td>\n",
       "      <td>...</td>\n",
       "      <td>0.177778</td>\n",
       "      <td>0</td>\n",
       "      <td>1</td>\n",
       "      <td>0</td>\n",
       "      <td>0</td>\n",
       "      <td>0</td>\n",
       "      <td>[1, 0, 3, 1, 1, 0, 0, 1, 2, 2, 0, 1, 1, 1, 2, ...</td>\n",
       "      <td>2.624194</td>\n",
       "      <td>0.580907</td>\n",
       "      <td>0</td>\n",
       "    </tr>\n",
       "    <tr>\n",
       "      <th>4</th>\n",
       "      <td>http://103.224.193.105/</td>\n",
       "      <td>3</td>\n",
       "      <td>0</td>\n",
       "      <td>0</td>\n",
       "      <td>0</td>\n",
       "      <td>23</td>\n",
       "      <td>0</td>\n",
       "      <td>0</td>\n",
       "      <td>1</td>\n",
       "      <td>0</td>\n",
       "      <td>...</td>\n",
       "      <td>0.304348</td>\n",
       "      <td>1</td>\n",
       "      <td>0</td>\n",
       "      <td>0</td>\n",
       "      <td>1</td>\n",
       "      <td>0</td>\n",
       "      <td>[0, 0, 0, 0, 0, 0, 0, 1, 0, 0, 0, 0, 0, 0, 0, ...</td>\n",
       "      <td>1.039721</td>\n",
       "      <td>1.867919</td>\n",
       "      <td>0</td>\n",
       "    </tr>\n",
       "  </tbody>\n",
       "</table>\n",
       "<p>5 rows × 26 columns</p>\n",
       "</div>"
      ],
      "text/plain": [
       "                                             url DotsInUrl countdelim  \\\n",
       "0                http://www.facebook-log1in.com/         2          0   \n",
       "1                          http://getir.net/yg4t         1          0   \n",
       "2                    http://crosscitydental.com/         1          0   \n",
       "3  http://www.tenttrails.com/jscripts/product.js         3          0   \n",
       "4                        http://103.224.193.105/         3          0   \n",
       "\n",
       "  DotsInSubdomain presence of hyphen len of url presence of at  \\\n",
       "0               0                  1         31              0   \n",
       "1               0                  0         21              0   \n",
       "2               0                  0         27              0   \n",
       "3               0                  0         45              0   \n",
       "4               0                  0         23              0   \n",
       "\n",
       "  presence of double slash no of subdir no of subdomain  ...   \\\n",
       "0                        0            1               1  ...    \n",
       "1                        0            1               0  ...    \n",
       "2                        0            1               0  ...    \n",
       "3                        0            2               1  ...    \n",
       "4                        0            1               0  ...    \n",
       "\n",
       "  ratio_special_chars validateIPAddress subDomain topLevelDomainCount  \\\n",
       "0            0.225806                 0         0                   0   \n",
       "1            0.238095                 0         0                   0   \n",
       "2            0.185185                 0         0                   0   \n",
       "3            0.177778                 0         1                   0   \n",
       "4            0.304348                 1         0                   0   \n",
       "\n",
       "  suspicousWords getCharacterFrequency  \\\n",
       "0              1                     0   \n",
       "1              0                     0   \n",
       "2              0                     0   \n",
       "3              0                     0   \n",
       "4              1                     0   \n",
       "\n",
       "                                      digitsInDomain getEntropy  \\\n",
       "0  [1, 1, 2, 0, 1, 1, 1, 1, 1, 0, 1, 1, 1, 1, 4, ...   2.630555   \n",
       "1  [0, 0, 0, 0, 2, 0, 2, 1, 1, 0, 0, 0, 0, 1, 0, ...   1.986732   \n",
       "2  [1, 0, 3, 1, 1, 0, 0, 1, 1, 0, 0, 1, 1, 1, 2, ...   2.563151   \n",
       "3  [1, 0, 3, 1, 1, 0, 0, 1, 2, 2, 0, 1, 1, 1, 2, ...   2.624194   \n",
       "4  [0, 0, 0, 0, 0, 0, 0, 1, 0, 0, 0, 0, 0, 0, 0, ...   1.039721   \n",
       "\n",
       "  getKLDivergence label  \n",
       "0        0.602829     1  \n",
       "1        0.867503     1  \n",
       "2        0.369844     0  \n",
       "3        0.580907     0  \n",
       "4        1.867919     0  \n",
       "\n",
       "[5 rows x 26 columns]"
      ]
     },
     "execution_count": 61,
     "metadata": {},
     "output_type": "execute_result"
    }
   ],
   "source": [
    "featureExtract.head()"
   ]
  },
  {
   "cell_type": "markdown",
   "metadata": {},
   "source": [
    "### Analyze features to identify the dataTypes and look for any null values"
   ]
  },
  {
   "cell_type": "code",
   "execution_count": 60,
   "metadata": {},
   "outputs": [
    {
     "data": {
      "text/plain": [
       "url                              0\n",
       "DotsInUrl                        0\n",
       "countdelim                       0\n",
       "DotsInSubdomain                  0\n",
       "presence of hyphen               0\n",
       "len of url                       0\n",
       "presence of at                   0\n",
       "presence of double slash         0\n",
       "no of subdir                     0\n",
       "no of subdomain                  0\n",
       "len of domain                    0\n",
       "no of queries                    0\n",
       "is IP                            0\n",
       "presence of Suspicious_TLD       0\n",
       "presence of suspicious domain    0\n",
       "No of special_chars              0\n",
       "ratio_special_chars              0\n",
       "validateIPAddress                0\n",
       "subDomain                        0\n",
       "topLevelDomainCount              0\n",
       "suspicousWords                   0\n",
       "getCharacterFrequency            0\n",
       "digitsInDomain                   0\n",
       "getEntropy                       0\n",
       "getKLDivergence                  0\n",
       "label                            0\n",
       "dtype: int64"
      ]
     },
     "execution_count": 60,
     "metadata": {},
     "output_type": "execute_result"
    }
   ],
   "source": [
    "featureExtract.isnull().sum()\n"
   ]
  },
  {
   "cell_type": "code",
   "execution_count": 13,
   "metadata": {
    "collapsed": true
   },
   "outputs": [],
   "source": [
    "## convert the object columns to Integer type\n",
    "featureExtract['DotsInUrl']=featureExtract.DotsInUrl.astype(int)\n",
    "featureExtract['countdelim']=featureExtract.countdelim.astype(int)\n",
    "featureExtract['DotsInSubdomain']=featureExtract.DotsInSubdomain.astype(int)\n",
    "featureExtract['Presence_Of_hyphen']=featureExtract.Presence_Of_hyphen.astype(int)\n",
    "featureExtract['URLLength']=featureExtract.URLLength.astype(int)\n",
    "featureExtract['Presence_Of_AT']=featureExtract.Presence_Of_AT.astype(int)\n",
    "featureExtract['Presence_Of_double_slash']=featureExtract.Presence_Of_double_slash.astype(int)\n",
    "featureExtract['No_Of_Subdir']=featureExtract.No_Of_Subdir.astype(int)\n",
    "featureExtract['isIP']=featureExtract.No_Of_Subdir.astype(int)\n",
    "featureExtract['No_Of_SubDomain']=featureExtract.No_Of_SubDomain.astype(int)\n",
    "featureExtract['DomainLength']=featureExtract.DomainLength.astype(int)\n",
    "featureExtract['No_Of_Queries']=featureExtract.No_Of_Queries.astype(int)\n",
    "featureExtract['No_Of_special_chars']=featureExtract.No_Of_special_chars.astype(int)\n",
    "featureExtract['isMultipleDomains']=featureExtract.isMultipleDomains.astype(int)\n",
    "featureExtract['topLevelDomainCount']=featureExtract.topLevelDomainCount.astype(int)\n",
    "featureExtract['suspicousWords']=featureExtract.suspicousWords.astype(int)\n",
    "featureExtract['digitsInDomain']=featureExtract.digitsInDomain.astype(int)\n",
    "featureExtract['isLongURL']=featureExtract.isLongURL.astype(int)\n",
    "featureExtract['Presence_Of_Suspicious_TLD']=featureExtract.Presence_Of_Suspicious_TLD.astype(int)\n",
    "featureExtract['Presence_Of_Suspicious_Domain']=featureExtract.Presence_Of_Suspicious_Domain.astype(int)\n",
    "featureExtract['label']=featureExtract.label.astype(int)  "
   ]
  },
  {
   "cell_type": "code",
   "execution_count": 14,
   "metadata": {
    "collapsed": true
   },
   "outputs": [],
   "source": [
    "## export the features to CSV\n",
    "len(featureExtract)\n",
    "featureExtract.to_csv(path+ \"output.csv\")"
   ]
  },
  {
   "cell_type": "markdown",
   "metadata": {},
   "source": [
    "### Host and Domain Feature Generation"
   ]
  },
  {
   "cell_type": "markdown",
   "metadata": {},
   "source": [
    "#### Connect to AWS instance of My SQL Database"
   ]
  },
  {
   "cell_type": "code",
   "execution_count": 15,
   "metadata": {
    "collapsed": true
   },
   "outputs": [],
   "source": [
    "import pymysql\n",
    "pymysql.install_as_MySQLdb()\n",
    "\n",
    "db = pymysql.connect(host=\"urlwhois.cfug8tk0icxc.us-east-2.rds.amazonaws.com\",    # My AWS Hostname\n",
    "                     user=\"urlwhois_master\",         #  username\n",
    "                     passwd=\"urlwhois_master\",  #  password\n",
    "                     db=\"urlwhois_db1\")        # name of the data base\n",
    "\n",
    "# you must create a Cursor object. It will let\n",
    "#  you execute all the queries you need\n",
    "#cur = db.cursor()\n",
    "\n",
    "# Use all the SQL you like\n",
    "#cur.execute(\"SELECT  d.nameserver_count, d.whois_creation_date, d.whois_expiration_date, u.url  from url_domain d , url_info u where d.domain_id=u.url_domain_fk\")\n",
    "\n",
    "# print all the first cell of all the rows\n",
    "#for row in cur.fetchall():\n",
    "#   print(row)\n",
    "\n",
    "#db.close()"
   ]
  },
  {
   "cell_type": "code",
   "execution_count": 16,
   "metadata": {},
   "outputs": [
    {
     "data": {
      "text/html": [
       "<div>\n",
       "<style>\n",
       "    .dataframe thead tr:only-child th {\n",
       "        text-align: right;\n",
       "    }\n",
       "\n",
       "    .dataframe thead th {\n",
       "        text-align: left;\n",
       "    }\n",
       "\n",
       "    .dataframe tbody tr th {\n",
       "        vertical-align: top;\n",
       "    }\n",
       "</style>\n",
       "<table border=\"1\" class=\"dataframe\">\n",
       "  <thead>\n",
       "    <tr style=\"text-align: right;\">\n",
       "      <th></th>\n",
       "      <th>nameserver_count</th>\n",
       "      <th>url</th>\n",
       "    </tr>\n",
       "  </thead>\n",
       "  <tbody>\n",
       "    <tr>\n",
       "      <th>0</th>\n",
       "      <td>2.0</td>\n",
       "      <td>http://www.facebook-log1in.com/</td>\n",
       "    </tr>\n",
       "    <tr>\n",
       "      <th>1</th>\n",
       "      <td>2.0</td>\n",
       "      <td>http://getir.net/yg4t</td>\n",
       "    </tr>\n",
       "    <tr>\n",
       "      <th>2</th>\n",
       "      <td>2.0</td>\n",
       "      <td>http://crosscitydental.com/</td>\n",
       "    </tr>\n",
       "    <tr>\n",
       "      <th>3</th>\n",
       "      <td>2.0</td>\n",
       "      <td>http://www.tenttrails.com/jscripts/product.js</td>\n",
       "    </tr>\n",
       "    <tr>\n",
       "      <th>4</th>\n",
       "      <td>0.0</td>\n",
       "      <td>http://103.224.193.105/</td>\n",
       "    </tr>\n",
       "  </tbody>\n",
       "</table>\n",
       "</div>"
      ],
      "text/plain": [
       "   nameserver_count                                            url\n",
       "0               2.0                http://www.facebook-log1in.com/\n",
       "1               2.0                          http://getir.net/yg4t\n",
       "2               2.0                    http://crosscitydental.com/\n",
       "3               2.0  http://www.tenttrails.com/jscripts/product.js\n",
       "4               0.0                        http://103.224.193.105/"
      ]
     },
     "execution_count": 16,
     "metadata": {},
     "output_type": "execute_result"
    }
   ],
   "source": [
    "db_connection =  pymysql.connect(host=\"urlwhois.cfug8tk0icxc.us-east-2.rds.amazonaws.com\",    # My AWS Hostname\n",
    "                     user=\"urlwhois_master\",         #  username\n",
    "                     passwd=\"urlwhois_master\",  #  password\n",
    "                     db=\"urlwhois_db1\") \n",
    "whoisDF=pd.read_sql('SELECT d.nameserver_count, u.url  from url_domain d , url_info u where d.domain_id=u.url_domain_fk', con=db_connection)\n",
    "FinalWhois=whoisDF.fillna(0)\n",
    "FinalWhois.head()"
   ]
  },
  {
   "cell_type": "code",
   "execution_count": 17,
   "metadata": {},
   "outputs": [
    {
     "data": {
      "text/html": [
       "<div>\n",
       "<style>\n",
       "    .dataframe thead tr:only-child th {\n",
       "        text-align: right;\n",
       "    }\n",
       "\n",
       "    .dataframe thead th {\n",
       "        text-align: left;\n",
       "    }\n",
       "\n",
       "    .dataframe tbody tr th {\n",
       "        vertical-align: top;\n",
       "    }\n",
       "</style>\n",
       "<table border=\"1\" class=\"dataframe\">\n",
       "  <thead>\n",
       "    <tr style=\"text-align: right;\">\n",
       "      <th></th>\n",
       "      <th>url_redirect_count</th>\n",
       "      <th>url</th>\n",
       "    </tr>\n",
       "  </thead>\n",
       "  <tbody>\n",
       "    <tr>\n",
       "      <th>9994</th>\n",
       "      <td>0</td>\n",
       "      <td>http://www.scottishindexes.com/WebResource.axd...</td>\n",
       "    </tr>\n",
       "    <tr>\n",
       "      <th>9995</th>\n",
       "      <td>0</td>\n",
       "      <td>http://pmmedios.com/</td>\n",
       "    </tr>\n",
       "    <tr>\n",
       "      <th>9996</th>\n",
       "      <td>0</td>\n",
       "      <td>http://apgstudio.pl/pub/rqu/</td>\n",
       "    </tr>\n",
       "    <tr>\n",
       "      <th>9997</th>\n",
       "      <td>0</td>\n",
       "      <td>http://www.scg84.de//++theme++barceloneta/less...</td>\n",
       "    </tr>\n",
       "    <tr>\n",
       "      <th>9998</th>\n",
       "      <td>1</td>\n",
       "      <td>http://www.collegecodeofconduct.com/live.com/A...</td>\n",
       "    </tr>\n",
       "  </tbody>\n",
       "</table>\n",
       "</div>"
      ],
      "text/plain": [
       "      url_redirect_count                                                url\n",
       "9994                   0  http://www.scottishindexes.com/WebResource.axd...\n",
       "9995                   0                               http://pmmedios.com/\n",
       "9996                   0                       http://apgstudio.pl/pub/rqu/\n",
       "9997                   0  http://www.scg84.de//++theme++barceloneta/less...\n",
       "9998                   1  http://www.collegecodeofconduct.com/live.com/A..."
      ]
     },
     "execution_count": 17,
     "metadata": {},
     "output_type": "execute_result"
    }
   ],
   "source": [
    "rcDF=pd.read_sql('SELECT url_redirect_count, url FROM urlwhois_db1.url_info ', con=db_connection)\n",
    "finalRC=rcDF.fillna(0)\n",
    "finalRC.tail()"
   ]
  },
  {
   "cell_type": "code",
   "execution_count": 18,
   "metadata": {},
   "outputs": [
    {
     "name": "stdout",
     "output_type": "stream",
     "text": [
      "<class 'pandas.core.frame.DataFrame'>\n",
      "Int64Index: 9999 entries, 0 to 9998\n",
      "Data columns (total 3 columns):\n",
      "nameserver_count      9999 non-null float64\n",
      "url                   9999 non-null object\n",
      "url_redirect_count    9999 non-null int64\n",
      "dtypes: float64(1), int64(1), object(1)\n",
      "memory usage: 312.5+ KB\n"
     ]
    },
    {
     "data": {
      "text/plain": [
       "nameserver_count      0\n",
       "url                   0\n",
       "url_redirect_count    0\n",
       "dtype: int64"
      ]
     },
     "execution_count": 18,
     "metadata": {},
     "output_type": "execute_result"
    }
   ],
   "source": [
    "hostFeatures=pd.merge(FinalWhois, finalRC, how='outer', on='url')\n",
    "\n",
    "hostFeatures.info()\n",
    "hostFeatures.isnull().sum()"
   ]
  },
  {
   "cell_type": "code",
   "execution_count": 19,
   "metadata": {},
   "outputs": [
    {
     "data": {
      "text/html": [
       "<div>\n",
       "<style>\n",
       "    .dataframe thead tr:only-child th {\n",
       "        text-align: right;\n",
       "    }\n",
       "\n",
       "    .dataframe thead th {\n",
       "        text-align: left;\n",
       "    }\n",
       "\n",
       "    .dataframe tbody tr th {\n",
       "        vertical-align: top;\n",
       "    }\n",
       "</style>\n",
       "<table border=\"1\" class=\"dataframe\">\n",
       "  <thead>\n",
       "    <tr style=\"text-align: right;\">\n",
       "      <th></th>\n",
       "      <th>nameserver_count</th>\n",
       "      <th>url</th>\n",
       "      <th>url_redirect_count</th>\n",
       "    </tr>\n",
       "  </thead>\n",
       "  <tbody>\n",
       "    <tr>\n",
       "      <th>9994</th>\n",
       "      <td>2.0</td>\n",
       "      <td>http://www.scottishindexes.com/WebResource.axd...</td>\n",
       "      <td>0</td>\n",
       "    </tr>\n",
       "    <tr>\n",
       "      <th>9995</th>\n",
       "      <td>2.0</td>\n",
       "      <td>http://pmmedios.com/</td>\n",
       "      <td>0</td>\n",
       "    </tr>\n",
       "    <tr>\n",
       "      <th>9996</th>\n",
       "      <td>0.0</td>\n",
       "      <td>http://apgstudio.pl/pub/rqu/</td>\n",
       "      <td>0</td>\n",
       "    </tr>\n",
       "    <tr>\n",
       "      <th>9997</th>\n",
       "      <td>0.0</td>\n",
       "      <td>http://www.scg84.de//++theme++barceloneta/less...</td>\n",
       "      <td>0</td>\n",
       "    </tr>\n",
       "    <tr>\n",
       "      <th>9998</th>\n",
       "      <td>2.0</td>\n",
       "      <td>http://www.collegecodeofconduct.com/live.com/A...</td>\n",
       "      <td>1</td>\n",
       "    </tr>\n",
       "  </tbody>\n",
       "</table>\n",
       "</div>"
      ],
      "text/plain": [
       "      nameserver_count                                                url  \\\n",
       "9994               2.0  http://www.scottishindexes.com/WebResource.axd...   \n",
       "9995               2.0                               http://pmmedios.com/   \n",
       "9996               0.0                       http://apgstudio.pl/pub/rqu/   \n",
       "9997               0.0  http://www.scg84.de//++theme++barceloneta/less...   \n",
       "9998               2.0  http://www.collegecodeofconduct.com/live.com/A...   \n",
       "\n",
       "      url_redirect_count  \n",
       "9994                   0  \n",
       "9995                   0  \n",
       "9996                   0  \n",
       "9997                   0  \n",
       "9998                   1  "
      ]
     },
     "execution_count": 19,
     "metadata": {},
     "output_type": "execute_result"
    }
   ],
   "source": [
    "hostFeatures.tail()"
   ]
  },
  {
   "cell_type": "markdown",
   "metadata": {},
   "source": [
    "### Combine Lexical, Host and Domain Features into one dataframe"
   ]
  },
  {
   "cell_type": "code",
   "execution_count": 20,
   "metadata": {},
   "outputs": [
    {
     "data": {
      "text/html": [
       "<div>\n",
       "<style>\n",
       "    .dataframe thead tr:only-child th {\n",
       "        text-align: right;\n",
       "    }\n",
       "\n",
       "    .dataframe thead th {\n",
       "        text-align: left;\n",
       "    }\n",
       "\n",
       "    .dataframe tbody tr th {\n",
       "        vertical-align: top;\n",
       "    }\n",
       "</style>\n",
       "<table border=\"1\" class=\"dataframe\">\n",
       "  <thead>\n",
       "    <tr style=\"text-align: right;\">\n",
       "      <th></th>\n",
       "      <th>nameserver_count</th>\n",
       "      <th>url</th>\n",
       "      <th>url_redirect_count</th>\n",
       "      <th>DotsInUrl</th>\n",
       "      <th>countdelim</th>\n",
       "      <th>DotsInSubdomain</th>\n",
       "      <th>Presence_Of_hyphen</th>\n",
       "      <th>URLLength</th>\n",
       "      <th>Presence_Of_AT</th>\n",
       "      <th>Presence_Of_double_slash</th>\n",
       "      <th>...</th>\n",
       "      <th>No_Of_special_chars</th>\n",
       "      <th>ratio_special_chars</th>\n",
       "      <th>isMultipleDomains</th>\n",
       "      <th>topLevelDomainCount</th>\n",
       "      <th>suspicousWords</th>\n",
       "      <th>digitsInDomain</th>\n",
       "      <th>isLongURL</th>\n",
       "      <th>getEntropy</th>\n",
       "      <th>getKLDivergence</th>\n",
       "      <th>label</th>\n",
       "    </tr>\n",
       "  </thead>\n",
       "  <tbody>\n",
       "    <tr>\n",
       "      <th>0</th>\n",
       "      <td>2.0</td>\n",
       "      <td>http://www.facebook-log1in.com/</td>\n",
       "      <td>0</td>\n",
       "      <td>2</td>\n",
       "      <td>0</td>\n",
       "      <td>0</td>\n",
       "      <td>1</td>\n",
       "      <td>31</td>\n",
       "      <td>0</td>\n",
       "      <td>0</td>\n",
       "      <td>...</td>\n",
       "      <td>7</td>\n",
       "      <td>0.225806</td>\n",
       "      <td>0</td>\n",
       "      <td>0</td>\n",
       "      <td>0</td>\n",
       "      <td>1</td>\n",
       "      <td>0</td>\n",
       "      <td>2.630555</td>\n",
       "      <td>0.602829</td>\n",
       "      <td>1</td>\n",
       "    </tr>\n",
       "    <tr>\n",
       "      <th>1</th>\n",
       "      <td>2.0</td>\n",
       "      <td>http://getir.net/yg4t</td>\n",
       "      <td>0</td>\n",
       "      <td>1</td>\n",
       "      <td>0</td>\n",
       "      <td>0</td>\n",
       "      <td>0</td>\n",
       "      <td>21</td>\n",
       "      <td>0</td>\n",
       "      <td>0</td>\n",
       "      <td>...</td>\n",
       "      <td>5</td>\n",
       "      <td>0.238095</td>\n",
       "      <td>0</td>\n",
       "      <td>0</td>\n",
       "      <td>0</td>\n",
       "      <td>0</td>\n",
       "      <td>0</td>\n",
       "      <td>1.986732</td>\n",
       "      <td>0.867503</td>\n",
       "      <td>1</td>\n",
       "    </tr>\n",
       "    <tr>\n",
       "      <th>2</th>\n",
       "      <td>2.0</td>\n",
       "      <td>http://crosscitydental.com/</td>\n",
       "      <td>0</td>\n",
       "      <td>1</td>\n",
       "      <td>0</td>\n",
       "      <td>0</td>\n",
       "      <td>0</td>\n",
       "      <td>27</td>\n",
       "      <td>0</td>\n",
       "      <td>0</td>\n",
       "      <td>...</td>\n",
       "      <td>5</td>\n",
       "      <td>0.185185</td>\n",
       "      <td>0</td>\n",
       "      <td>0</td>\n",
       "      <td>0</td>\n",
       "      <td>0</td>\n",
       "      <td>0</td>\n",
       "      <td>2.563151</td>\n",
       "      <td>0.369844</td>\n",
       "      <td>0</td>\n",
       "    </tr>\n",
       "    <tr>\n",
       "      <th>3</th>\n",
       "      <td>2.0</td>\n",
       "      <td>http://www.tenttrails.com/jscripts/product.js</td>\n",
       "      <td>0</td>\n",
       "      <td>3</td>\n",
       "      <td>0</td>\n",
       "      <td>0</td>\n",
       "      <td>0</td>\n",
       "      <td>45</td>\n",
       "      <td>0</td>\n",
       "      <td>0</td>\n",
       "      <td>...</td>\n",
       "      <td>8</td>\n",
       "      <td>0.177778</td>\n",
       "      <td>0</td>\n",
       "      <td>1</td>\n",
       "      <td>0</td>\n",
       "      <td>0</td>\n",
       "      <td>0</td>\n",
       "      <td>2.624194</td>\n",
       "      <td>0.580907</td>\n",
       "      <td>0</td>\n",
       "    </tr>\n",
       "    <tr>\n",
       "      <th>4</th>\n",
       "      <td>0.0</td>\n",
       "      <td>http://103.224.193.105/</td>\n",
       "      <td>0</td>\n",
       "      <td>3</td>\n",
       "      <td>0</td>\n",
       "      <td>0</td>\n",
       "      <td>0</td>\n",
       "      <td>23</td>\n",
       "      <td>0</td>\n",
       "      <td>0</td>\n",
       "      <td>...</td>\n",
       "      <td>7</td>\n",
       "      <td>0.304348</td>\n",
       "      <td>1</td>\n",
       "      <td>0</td>\n",
       "      <td>0</td>\n",
       "      <td>1</td>\n",
       "      <td>0</td>\n",
       "      <td>1.039721</td>\n",
       "      <td>1.867919</td>\n",
       "      <td>0</td>\n",
       "    </tr>\n",
       "  </tbody>\n",
       "</table>\n",
       "<p>5 rows × 27 columns</p>\n",
       "</div>"
      ],
      "text/plain": [
       "   nameserver_count                                            url  \\\n",
       "0               2.0                http://www.facebook-log1in.com/   \n",
       "1               2.0                          http://getir.net/yg4t   \n",
       "2               2.0                    http://crosscitydental.com/   \n",
       "3               2.0  http://www.tenttrails.com/jscripts/product.js   \n",
       "4               0.0                        http://103.224.193.105/   \n",
       "\n",
       "   url_redirect_count  DotsInUrl  countdelim  DotsInSubdomain  \\\n",
       "0                   0          2           0                0   \n",
       "1                   0          1           0                0   \n",
       "2                   0          1           0                0   \n",
       "3                   0          3           0                0   \n",
       "4                   0          3           0                0   \n",
       "\n",
       "   Presence_Of_hyphen  URLLength  Presence_Of_AT  Presence_Of_double_slash  \\\n",
       "0                   1         31               0                         0   \n",
       "1                   0         21               0                         0   \n",
       "2                   0         27               0                         0   \n",
       "3                   0         45               0                         0   \n",
       "4                   0         23               0                         0   \n",
       "\n",
       "   ...    No_Of_special_chars  ratio_special_chars  isMultipleDomains  \\\n",
       "0  ...                      7             0.225806                  0   \n",
       "1  ...                      5             0.238095                  0   \n",
       "2  ...                      5             0.185185                  0   \n",
       "3  ...                      8             0.177778                  0   \n",
       "4  ...                      7             0.304348                  1   \n",
       "\n",
       "   topLevelDomainCount  suspicousWords  digitsInDomain  isLongURL  getEntropy  \\\n",
       "0                    0               0               1          0    2.630555   \n",
       "1                    0               0               0          0    1.986732   \n",
       "2                    0               0               0          0    2.563151   \n",
       "3                    1               0               0          0    2.624194   \n",
       "4                    0               0               1          0    1.039721   \n",
       "\n",
       "   getKLDivergence  label  \n",
       "0         0.602829      1  \n",
       "1         0.867503      1  \n",
       "2         0.369844      0  \n",
       "3         0.580907      0  \n",
       "4         1.867919      0  \n",
       "\n",
       "[5 rows x 27 columns]"
      ]
     },
     "execution_count": 20,
     "metadata": {},
     "output_type": "execute_result"
    }
   ],
   "source": [
    "allFeatures=pd.merge(hostFeatures, featureExtract, how='inner', on='url')\n",
    "allFeatures.head()\n"
   ]
  },
  {
   "cell_type": "code",
   "execution_count": 21,
   "metadata": {
    "collapsed": true
   },
   "outputs": [],
   "source": [
    "allFeatures.to_csv(path+ \"output2.csv\")\n"
   ]
  },
  {
   "cell_type": "code",
   "execution_count": 22,
   "metadata": {
    "collapsed": true
   },
   "outputs": [],
   "source": [
    "import matplotlib.pyplot as plt\n",
    "import pandas as pd\n",
    "import seaborn as sns\n",
    "import pickle as pkl\n",
    "from __future__ import division"
   ]
  },
  {
   "cell_type": "markdown",
   "metadata": {},
   "source": [
    "#### Plot the Distribution of some features with Malicious and Beinign URL to understand the distribution and ooverlap"
   ]
  },
  {
   "cell_type": "code",
   "execution_count": 23,
   "metadata": {},
   "outputs": [
    {
     "data": {
      "image/png": "[encoded data removed]",
      "text/plain": [
       "<matplotlib.figure.Figure at 0x11a2d1b70>"
      ]
     },
     "metadata": {},
     "output_type": "display_data"
    }
   ],
   "source": [
    "\n",
    "sns.set(style=\"darkgrid\")\n",
    "sns.distplot(featureExtract[featureExtract['label']==0]['DomainLength'],color='blue',label='Benign URLs')\n",
    "sns.distplot(featureExtract[featureExtract['label']==1]['DomainLength'],color='red',label='Malicious URLs')\n",
    "sns.plt.title('Domain Length Distribution')\n",
    "plt.legend(loc='upper right')\n",
    "plt.xlabel('Length of Domain/Host')\n",
    "sns.plt.show()\n"
   ]
  },
  {
   "cell_type": "markdown",
   "metadata": {},
   "source": [
    "#### Domain Length for malicious URL is higher in most cases in comparison to the domain length for benign URL's"
   ]
  },
  {
   "cell_type": "code",
   "execution_count": 23,
   "metadata": {},
   "outputs": [
    {
     "data": {
      "image/png": "[encoded data removed]",
      "text/plain": [
       "<matplotlib.figure.Figure at 0x119efe748>"
      ]
     },
     "metadata": {},
     "output_type": "display_data"
    }
   ],
   "source": [
    "sns.set(style=\"darkgrid\")\n",
    "sns.distplot(featureExtract[featureExtract['label']==1]['DomainLength'],color='red',label='Malicious URLs')\n",
    "sns.plt.title('Domain Length Distribution')\n",
    "plt.legend(loc='upper right')\n",
    "plt.xlabel('Length of Domain/Host')\n",
    "sns.plt.show()\n"
   ]
  },
  {
   "cell_type": "code",
   "execution_count": 26,
   "metadata": {},
   "outputs": [
    {
     "data": {
      "image/png": "[encoded data removed]",
      "text/plain": [
       "<matplotlib.figure.Figure at 0x11b8d8400>"
      ]
     },
     "metadata": {},
     "output_type": "display_data"
    }
   ],
   "source": [
    "\n",
    "sns.set(style=\"darkgrid\")\n",
    "sns.distplot(featureExtract[featureExtract['label']==0]['URLLength'],color='blue',label='Benign URLs')\n",
    "sns.distplot(featureExtract[featureExtract['label']==1]['URLLength'],color='red',label='Malicious URLs')\n",
    "sns.plt.title('URL Length Distribution')\n",
    "plt.legend(loc='upper right')\n",
    "plt.xlabel('Length of URL')\n",
    "sns.plt.show()"
   ]
  },
  {
   "cell_type": "code",
   "execution_count": 27,
   "metadata": {},
   "outputs": [
    {
     "data": {
      "image/png": "[encoded data removed]",
      "text/plain": [
       "<matplotlib.figure.Figure at 0x10e415e10>"
      ]
     },
     "metadata": {},
     "output_type": "display_data"
    }
   ],
   "source": [
    "x=featureExtract[featureExtract['label']==0]['DotsInSubdomain']\n",
    "y=featureExtract[featureExtract['label']==1]['DotsInSubdomain']\n",
    "#plt.hist(x,bins=8, alpha=0.9, label='Benign URLs',color='blue')\n",
    "sns.distplot(x,bins=8,color='blue',label='Benign URLs')\n",
    "#plt.hist(y,bins=10, alpha=0.6, label='Malicious URLs',color='red')\n",
    "sns.distplot(y,bins=8,color='red',label='Malicious URLs')\n",
    "plt.legend(loc='upper right')\n",
    "plt.xlabel('Number of Dots')\n",
    "plt.title('Distribution of Number of Dots in SubDomain')\n",
    "plt.show()\n"
   ]
  },
  {
   "cell_type": "markdown",
   "metadata": {},
   "source": [
    "#### Number of dots in subdomain malicious URL is higher in most cases in comparison to  benign URL's"
   ]
  },
  {
   "cell_type": "code",
   "execution_count": 25,
   "metadata": {},
   "outputs": [
    {
     "data": {
      "text/plain": [
       "<module 'matplotlib.pyplot' from '/Applications/anaconda/lib/python3.6/site-packages/matplotlib/pyplot.py'>"
      ]
     },
     "execution_count": 25,
     "metadata": {},
     "output_type": "execute_result"
    },
    {
     "data": {
      "image/png": "[encoded data removed]",
      "text/plain": [
       "<matplotlib.figure.Figure at 0x11c4164a8>"
      ]
     },
     "metadata": {},
     "output_type": "display_data"
    }
   ],
   "source": [
    "x=featureExtract[featureExtract['label']==0]['DotsInSubdomain']\n",
    "y=featureExtract[featureExtract['label']==1]['DotsInSubdomain']\n",
    "#plt.hist(x,bins=8, alpha=0.9, label='Benign URLs',color='blue')\n",
    "#sns.distplot(x,bins=8,color='blue',label='Benign URLs')\n",
    "plt.hist(y,bins=10, alpha=0.6, label='Malicious URLs',color='red')\n",
    "#sns.distplot(y,bins=8,color='red',label='Malicious URLs')\n",
    "plt.legend(loc='upper right')\n",
    "plt.xlabel('Number of Dots')\n",
    "plt.title('Distribution of Number of Dots in URL')\n",
    "plt"
   ]
  },
  {
   "cell_type": "code",
   "execution_count": 26,
   "metadata": {},
   "outputs": [
    {
     "data": {
      "image/png": "[encoded data removed]",
      "text/plain": [
       "<matplotlib.figure.Figure at 0x11c70bef0>"
      ]
     },
     "metadata": {},
     "output_type": "display_data"
    }
   ],
   "source": [
    "sns.set(style=\"darkgrid\")\n",
    "sns.distplot(featureExtract[featureExtract['label']==0]['isMultipleDomains'],color='blue',label='Benign URLs')\n",
    "sns.distplot(featureExtract[featureExtract['label']==1]['isMultipleDomains'],color='red',label='Malicious URLs')\n",
    "sns.plt.title('isMultipleDomains')\n",
    "plt.legend(loc='upper right')\n",
    "plt.xlabel('Length of Domain/Host')\n",
    "sns.plt.show()"
   ]
  },
  {
   "cell_type": "markdown",
   "metadata": {},
   "source": [
    "#### Presence of multiple subdomians for malicious URL is higher in most cases in comparison to that of benign URL's"
   ]
  },
  {
   "cell_type": "code",
   "execution_count": 27,
   "metadata": {},
   "outputs": [
    {
     "data": {
      "image/png": "[encoded data removed]",
      "text/plain": [
       "<matplotlib.figure.Figure at 0x11c64fa58>"
      ]
     },
     "metadata": {},
     "output_type": "display_data"
    }
   ],
   "source": [
    "sns.set(style=\"darkgrid\")\n",
    "sns.distplot(featureExtract[featureExtract['label']==1]['isMultipleDomains'],color='red',label='Malicious URLs')\n",
    "sns.plt.title('isMultipleDomains')\n",
    "plt.legend(loc='upper right')\n",
    "plt.xlabel('Length of Domain/Host')\n",
    "sns.plt.show()"
   ]
  },
  {
   "cell_type": "markdown",
   "metadata": {},
   "source": [
    "#### Comparing Entropy and KL-Divergence   for malicious URL and benign URL's also shows these cna be useful features to train the model\n"
   ]
  },
  {
   "cell_type": "code",
   "execution_count": 28,
   "metadata": {},
   "outputs": [
    {
     "data": {
      "image/png": "[encoded data removed]",
      "text/plain": [
       "<matplotlib.figure.Figure at 0x11c63c438>"
      ]
     },
     "metadata": {},
     "output_type": "display_data"
    }
   ],
   "source": [
    "sns.set(style=\"darkgrid\")\n",
    "sns.distplot(featureExtract[featureExtract['label']==0]['getEntropy'],color='green',label='Benign URLs')\n",
    "sns.distplot(featureExtract[featureExtract['label']==1]['getEntropy'],color='red',label='Phishing URLs')\n",
    "sns.plt.title('Entropy Distribution')\n",
    "plt.legend(loc='upper right')\n",
    "plt.xlabel('Entropy of URL')\n",
    "\n",
    "sns.plt.show()"
   ]
  },
  {
   "cell_type": "code",
   "execution_count": 29,
   "metadata": {},
   "outputs": [
    {
     "data": {
      "image/png": "[encoded data removed]",
      "text/plain": [
       "<matplotlib.figure.Figure at 0x11c8f7c18>"
      ]
     },
     "metadata": {},
     "output_type": "display_data"
    }
   ],
   "source": [
    "sns.set(style=\"darkgrid\")\n",
    "#sns.distplot(featureExtract[featureExtract['label']=='0']['getEntropy'],color='green',label='Benign URLs')\n",
    "sns.distplot(featureExtract[featureExtract['label']==1]['getEntropy'],color='red',label='Phishing URLs')\n",
    "sns.plt.title('Entropy Distribution for malicious URL')\n",
    "plt.legend(loc='upper right')\n",
    "plt.xlabel('Entropy of URL')\n",
    "\n",
    "sns.plt.show()"
   ]
  },
  {
   "cell_type": "code",
   "execution_count": 30,
   "metadata": {},
   "outputs": [
    {
     "data": {
      "image/png": "[encoded data removed]",
      "text/plain": [
       "<matplotlib.figure.Figure at 0x11b358908>"
      ]
     },
     "metadata": {},
     "output_type": "display_data"
    }
   ],
   "source": [
    "sns.set(style=\"darkgrid\")\n",
    "sns.distplot(featureExtract[featureExtract['label']==0]['getKLDivergence'],color='green',label='Benign URLs')\n",
    "sns.distplot(featureExtract[featureExtract['label']==1]['getKLDivergence'],color='red',label='Phishing URLs')\n",
    "sns.plt.title('KL Divergence Distribution')\n",
    "plt.legend(loc='upper right')\n",
    "plt.xlabel('Entropy of URL')\n",
    "\n",
    "sns.plt.show()"
   ]
  },
  {
   "cell_type": "code",
   "execution_count": 29,
   "metadata": {},
   "outputs": [
    {
     "data": {
      "image/png": "[encoded data removed]",
      "text/plain": [
       "<matplotlib.figure.Figure at 0x11bf3de10>"
      ]
     },
     "metadata": {},
     "output_type": "display_data"
    }
   ],
   "source": [
    "sns.set(style=\"darkgrid\")\n",
    "sns.distplot(allFeatures[allFeatures['label']==0]['url_redirect_count'],color='green',label='Benign URLs')\n",
    "sns.distplot(allFeatures[allFeatures['label']==1]['url_redirect_count'],color='red',label='Phishing URLs')\n",
    "sns.plt.title('URL redirect count Distribution')\n",
    "plt.legend(loc='upper right')\n",
    "plt.xlabel('URL redirect count of URL')\n",
    "\n",
    "sns.plt.show()"
   ]
  },
  {
   "cell_type": "code",
   "execution_count": 31,
   "metadata": {},
   "outputs": [
    {
     "data": {
      "image/png": "[encoded data removed]",
      "text/plain": [
       "<matplotlib.figure.Figure at 0x11a544a58>"
      ]
     },
     "metadata": {},
     "output_type": "display_data"
    }
   ],
   "source": [
    "sns.set(style=\"darkgrid\")\n",
    "#sns.distplot(featureExtract[featureExtract['label']=='0']['getKLDivergence'],color='green',label='Benign URLs')\n",
    "sns.distplot(featureExtract[featureExtract['label']==1]['getKLDivergence'],color='red',label='Phishing URLs')\n",
    "sns.plt.title('KL Divergence Distribution')\n",
    "plt.legend(loc='upper right')\n",
    "plt.xlabel('KL Divergence of URL')\n",
    "\n",
    "sns.plt.show()"
   ]
  },
  {
   "cell_type": "markdown",
   "metadata": {},
   "source": [
    "### Use all the feautres generated above to train the classifiers and also determine the accuracy"
   ]
  },
  {
   "cell_type": "code",
   "execution_count": 57,
   "metadata": {
    "collapsed": true
   },
   "outputs": [],
   "source": [
    "import sklearn.ensemble as ek\n",
    "from sklearn import cross_validation, tree, linear_model\n",
    "from sklearn.feature_selection import SelectFromModel\n",
    "from sklearn.externals import joblib\n",
    "from sklearn.naive_bayes import GaussianNB, MultinomialNB,BernoulliNB\n",
    "from sklearn.metrics import confusion_matrix\n",
    "from sklearn.pipeline import make_pipeline\n",
    "from sklearn import preprocessing\n",
    "from sklearn import svm\n",
    "from sklearn.linear_model import LogisticRegression\n",
    "from sklearn.metrics import f1_score,precision_score,recall_score\n",
    "from sklearn import metrics"
   ]
  },
  {
   "cell_type": "code",
   "execution_count": 58,
   "metadata": {
    "collapsed": true
   },
   "outputs": [],
   "source": [
    "X = allFeatures.drop(['url','label'],axis=1).values\n",
    "y = allFeatures['label'].values"
   ]
  },
  {
   "cell_type": "code",
   "execution_count": 59,
   "metadata": {
    "collapsed": true
   },
   "outputs": [],
   "source": [
    "model = { \"DecisionTree\":tree.DecisionTreeClassifier(max_depth=10),\n",
    "         \"RandomForest\":ek.RandomForestClassifier(n_estimators=100,random_state=42),\n",
    "        \"GNB\":GaussianNB(),\n",
    "         \"LogisticRegression\":LogisticRegression()   \n",
    "}"
   ]
  },
  {
   "cell_type": "code",
   "execution_count": 60,
   "metadata": {
    "collapsed": true
   },
   "outputs": [],
   "source": [
    "X_train, X_test, y_train, y_test = cross_validation.train_test_split(X, y ,test_size=0.2,random_state=10)\n"
   ]
  },
  {
   "cell_type": "code",
   "execution_count": 61,
   "metadata": {},
   "outputs": [
    {
     "name": "stdout",
     "output_type": "stream",
     "text": [
      "DecisionTree : 0.822734101152 \n",
      "RandomForest : 0.844266399599 \n",
      "GNB : 0.544817225839 \n",
      "LogisticRegression : 0.807210816224 \n"
     ]
    }
   ],
   "source": [
    "results = {}\n",
    "for algo in model:\n",
    "    clf = model[algo]\n",
    "    clf.fit(X_train,y_train)\n",
    "    score = clf.score(X_test,y_test)\n",
    "    print (\"%s : %s \" %(algo, score))\n",
    "    results[algo] = score"
   ]
  },
  {
   "cell_type": "code",
   "execution_count": 62,
   "metadata": {},
   "outputs": [
    {
     "name": "stdout",
     "output_type": "stream",
     "text": [
      "DecisionTree \n",
      "False positive rate : 3.774834 %\n",
      "False negative rate : 44.266338 %\n",
      "RandomForest \n",
      "False positive rate : 0.953642 %\n",
      "False negative rate : 9.823263 %\n",
      "GNB \n",
      "False positive rate : 52.556291 %\n",
      "False negative rate : 19.317715 %\n",
      "LogisticRegression \n",
      "False positive rate : 3.536424 %\n",
      "False negative rate : 67.488697 %\n"
     ]
    }
   ],
   "source": [
    "resultsFP = {}\n",
    "for algo in model:\n",
    "    print (\"%s \" %(algo))\n",
    "    clf = model[algo]\n",
    "    res = clf.predict(X)\n",
    "    mt = confusion_matrix(y, res)\n",
    "    #print(mt)\n",
    "    print(\"False positive rate : %f %%\" % ((mt[0][1] / float(sum(mt[0])))*100))\n",
    "    print('False negative rate : %f %%' % ( (mt[1][0] / float(sum(mt[1]))*100)))\n",
    "    "
   ]
  },
  {
   "cell_type": "code",
   "execution_count": 63,
   "metadata": {},
   "outputs": [
    {
     "name": "stdout",
     "output_type": "stream",
     "text": [
      "DecisionTree \n",
      "F-1 score for  the model: 72.689491 %\n",
      "Precision score for  the model: 78.066301 %\n",
      "Recall  score for  the model: 70.285340 %\n",
      "RandomForest \n",
      "F-1 score for  the model: 76.158958 %\n",
      "Precision score for  the model: 81.835137 %\n",
      "Recall  score for  the model: 73.414507 %\n",
      "GNB \n",
      "F-1 score for  the model: 53.528571 %\n",
      "Precision score for  the model: 60.513400 %\n",
      "Recall  score for  the model: 63.441336 %\n",
      "LogisticRegression \n",
      "F-1 score for  the model: 67.419517 %\n",
      "Precision score for  the model: 77.795366 %\n",
      "Recall  score for  the model: 65.041307 %\n"
     ]
    }
   ],
   "source": [
    "resultsFP = {}\n",
    "for algo in model:\n",
    "    print (\"%s \" %(algo))\n",
    "    clf = model[algo]\n",
    "    res = clf.predict(X_test)\n",
    "  #  mt = confusion_matrix(y, res)\n",
    "    #print(mt)\n",
    "    #y_pred = NBm.predict(X_test)\n",
    "    print(\"F-1 score for  the model: %f %%\" % ((f1_score(y_test, res, average=\"macro\"))*100))\n",
    "    print(\"Precision score for  the model: %f %%\" % ((precision_score(y_test, res, average=\"macro\"))*100))\n",
    "    print(\"Recall  score for  the model: %f %%\" %((recall_score(y_test, res, average=\"macro\"))*100)) "
   ]
  },
  {
   "cell_type": "markdown",
   "metadata": {},
   "source": [
    "## Generated a boxplot to understand the distribution across multiple features. "
   ]
  },
  {
   "cell_type": "code",
   "execution_count": 64,
   "metadata": {},
   "outputs": [
    {
     "name": "stderr",
     "output_type": "stream",
     "text": [
      "/Applications/anaconda/lib/python3.6/site-packages/ipykernel_launcher.py:3: MatplotlibDeprecationWarning: The set_axis_bgcolor function was deprecated in version 2.0. Use set_facecolor instead.\n",
      "  This is separate from the ipykernel package so we can avoid doing imports until\n"
     ]
    },
    {
     "data": {
      "image/png": "[encoded data removed]",
      "text/plain": [
       "<matplotlib.figure.Figure at 0x11c49d828>"
      ]
     },
     "metadata": {},
     "output_type": "display_data"
    }
   ],
   "source": [
    "f, ax = plt.subplots(figsize=(8, 12))\n",
    "\n",
    "ax.set_axis_bgcolor('#FFFFFF')\n",
    "plt.title(\"Box Plot URL Features Unscaled\")\n",
    "ax.set(xlim=(0, 60))\n",
    "ax = sns.boxplot(data = allFeatures[0:40], \n",
    "  orient = 'h', \n",
    "  palette = 'Set2')"
   ]
  },
  {
   "cell_type": "markdown",
   "metadata": {},
   "source": [
    "###  Created a sample function to help scale the data. "
   ]
  },
  {
   "cell_type": "code",
   "execution_count": 65,
   "metadata": {
    "collapsed": true
   },
   "outputs": [],
   "source": [
    "def scaled_df(allFeatures):\n",
    "    scaled = pd.DataFrame()\n",
    "    for item in allFeatures:\n",
    "        if item in allFeatures.select_dtypes(include=[np.int64, np.float64]):\n",
    "            scaled[item] = ((allFeatures[item] - allFeatures[item].min()) / \n",
    "            (allFeatures[item].max() - allFeatures[item].min()))\n",
    "        else: \n",
    "            scaled[item] = allFeatures[item]\n",
    "    return scaled\n",
    "allFeatures_scaled = scaled_df(allFeatures)\n",
    "allFeatures_scaled=allFeatures_scaled.fillna(0)"
   ]
  },
  {
   "cell_type": "code",
   "execution_count": 66,
   "metadata": {},
   "outputs": [
    {
     "data": {
      "text/html": [
       "<div>\n",
       "<style>\n",
       "    .dataframe thead tr:only-child th {\n",
       "        text-align: right;\n",
       "    }\n",
       "\n",
       "    .dataframe thead th {\n",
       "        text-align: left;\n",
       "    }\n",
       "\n",
       "    .dataframe tbody tr th {\n",
       "        vertical-align: top;\n",
       "    }\n",
       "</style>\n",
       "<table border=\"1\" class=\"dataframe\">\n",
       "  <thead>\n",
       "    <tr style=\"text-align: right;\">\n",
       "      <th></th>\n",
       "      <th>nameserver_count</th>\n",
       "      <th>url</th>\n",
       "      <th>url_redirect_count</th>\n",
       "      <th>DotsInUrl</th>\n",
       "      <th>countdelim</th>\n",
       "      <th>DotsInSubdomain</th>\n",
       "      <th>Presence_Of_hyphen</th>\n",
       "      <th>URLLength</th>\n",
       "      <th>Presence_Of_AT</th>\n",
       "      <th>Presence_Of_double_slash</th>\n",
       "      <th>...</th>\n",
       "      <th>No_Of_special_chars</th>\n",
       "      <th>ratio_special_chars</th>\n",
       "      <th>isMultipleDomains</th>\n",
       "      <th>topLevelDomainCount</th>\n",
       "      <th>suspicousWords</th>\n",
       "      <th>digitsInDomain</th>\n",
       "      <th>isLongURL</th>\n",
       "      <th>getEntropy</th>\n",
       "      <th>getKLDivergence</th>\n",
       "      <th>label</th>\n",
       "    </tr>\n",
       "  </thead>\n",
       "  <tbody>\n",
       "    <tr>\n",
       "      <th>0</th>\n",
       "      <td>0.153846</td>\n",
       "      <td>http://www.facebook-log1in.com/</td>\n",
       "      <td>0.090909</td>\n",
       "      <td>0.022727</td>\n",
       "      <td>0.0</td>\n",
       "      <td>0.0</td>\n",
       "      <td>0.0625</td>\n",
       "      <td>0.034137</td>\n",
       "      <td>0.0</td>\n",
       "      <td>0.0</td>\n",
       "      <td>...</td>\n",
       "      <td>0.01250</td>\n",
       "      <td>0.546814</td>\n",
       "      <td>0.0</td>\n",
       "      <td>0.0</td>\n",
       "      <td>0.0</td>\n",
       "      <td>1.0</td>\n",
       "      <td>0.0</td>\n",
       "      <td>0.734728</td>\n",
       "      <td>0.208089</td>\n",
       "      <td>1.0</td>\n",
       "    </tr>\n",
       "    <tr>\n",
       "      <th>1</th>\n",
       "      <td>0.153846</td>\n",
       "      <td>http://getir.net/yg4t</td>\n",
       "      <td>0.090909</td>\n",
       "      <td>0.000000</td>\n",
       "      <td>0.0</td>\n",
       "      <td>0.0</td>\n",
       "      <td>0.0000</td>\n",
       "      <td>0.014056</td>\n",
       "      <td>0.0</td>\n",
       "      <td>0.0</td>\n",
       "      <td>...</td>\n",
       "      <td>0.00000</td>\n",
       "      <td>0.578784</td>\n",
       "      <td>0.0</td>\n",
       "      <td>0.0</td>\n",
       "      <td>0.0</td>\n",
       "      <td>0.0</td>\n",
       "      <td>0.0</td>\n",
       "      <td>0.437378</td>\n",
       "      <td>0.307745</td>\n",
       "      <td>1.0</td>\n",
       "    </tr>\n",
       "    <tr>\n",
       "      <th>2</th>\n",
       "      <td>0.153846</td>\n",
       "      <td>http://crosscitydental.com/</td>\n",
       "      <td>0.090909</td>\n",
       "      <td>0.000000</td>\n",
       "      <td>0.0</td>\n",
       "      <td>0.0</td>\n",
       "      <td>0.0000</td>\n",
       "      <td>0.026104</td>\n",
       "      <td>0.0</td>\n",
       "      <td>0.0</td>\n",
       "      <td>...</td>\n",
       "      <td>0.00000</td>\n",
       "      <td>0.441132</td>\n",
       "      <td>0.0</td>\n",
       "      <td>0.0</td>\n",
       "      <td>0.0</td>\n",
       "      <td>0.0</td>\n",
       "      <td>0.0</td>\n",
       "      <td>0.703598</td>\n",
       "      <td>0.120364</td>\n",
       "      <td>0.0</td>\n",
       "    </tr>\n",
       "    <tr>\n",
       "      <th>3</th>\n",
       "      <td>0.153846</td>\n",
       "      <td>http://www.tenttrails.com/jscripts/product.js</td>\n",
       "      <td>0.090909</td>\n",
       "      <td>0.045455</td>\n",
       "      <td>0.0</td>\n",
       "      <td>0.0</td>\n",
       "      <td>0.0000</td>\n",
       "      <td>0.062249</td>\n",
       "      <td>0.0</td>\n",
       "      <td>0.0</td>\n",
       "      <td>...</td>\n",
       "      <td>0.01875</td>\n",
       "      <td>0.421861</td>\n",
       "      <td>0.0</td>\n",
       "      <td>1.0</td>\n",
       "      <td>0.0</td>\n",
       "      <td>0.0</td>\n",
       "      <td>0.0</td>\n",
       "      <td>0.731790</td>\n",
       "      <td>0.199834</td>\n",
       "      <td>0.0</td>\n",
       "    </tr>\n",
       "    <tr>\n",
       "      <th>4</th>\n",
       "      <td>0.000000</td>\n",
       "      <td>http://103.224.193.105/</td>\n",
       "      <td>0.090909</td>\n",
       "      <td>0.045455</td>\n",
       "      <td>0.0</td>\n",
       "      <td>0.0</td>\n",
       "      <td>0.0000</td>\n",
       "      <td>0.018072</td>\n",
       "      <td>0.0</td>\n",
       "      <td>0.0</td>\n",
       "      <td>...</td>\n",
       "      <td>0.01250</td>\n",
       "      <td>0.751149</td>\n",
       "      <td>0.5</td>\n",
       "      <td>0.0</td>\n",
       "      <td>0.0</td>\n",
       "      <td>1.0</td>\n",
       "      <td>0.0</td>\n",
       "      <td>0.000000</td>\n",
       "      <td>0.684425</td>\n",
       "      <td>0.0</td>\n",
       "    </tr>\n",
       "  </tbody>\n",
       "</table>\n",
       "<p>5 rows × 27 columns</p>\n",
       "</div>"
      ],
      "text/plain": [
       "   nameserver_count                                            url  \\\n",
       "0          0.153846                http://www.facebook-log1in.com/   \n",
       "1          0.153846                          http://getir.net/yg4t   \n",
       "2          0.153846                    http://crosscitydental.com/   \n",
       "3          0.153846  http://www.tenttrails.com/jscripts/product.js   \n",
       "4          0.000000                        http://103.224.193.105/   \n",
       "\n",
       "   url_redirect_count  DotsInUrl  countdelim  DotsInSubdomain  \\\n",
       "0            0.090909   0.022727         0.0              0.0   \n",
       "1            0.090909   0.000000         0.0              0.0   \n",
       "2            0.090909   0.000000         0.0              0.0   \n",
       "3            0.090909   0.045455         0.0              0.0   \n",
       "4            0.090909   0.045455         0.0              0.0   \n",
       "\n",
       "   Presence_Of_hyphen  URLLength  Presence_Of_AT  Presence_Of_double_slash  \\\n",
       "0              0.0625   0.034137             0.0                       0.0   \n",
       "1              0.0000   0.014056             0.0                       0.0   \n",
       "2              0.0000   0.026104             0.0                       0.0   \n",
       "3              0.0000   0.062249             0.0                       0.0   \n",
       "4              0.0000   0.018072             0.0                       0.0   \n",
       "\n",
       "   ...    No_Of_special_chars  ratio_special_chars  isMultipleDomains  \\\n",
       "0  ...                0.01250             0.546814                0.0   \n",
       "1  ...                0.00000             0.578784                0.0   \n",
       "2  ...                0.00000             0.441132                0.0   \n",
       "3  ...                0.01875             0.421861                0.0   \n",
       "4  ...                0.01250             0.751149                0.5   \n",
       "\n",
       "   topLevelDomainCount  suspicousWords  digitsInDomain  isLongURL  getEntropy  \\\n",
       "0                  0.0             0.0             1.0        0.0    0.734728   \n",
       "1                  0.0             0.0             0.0        0.0    0.437378   \n",
       "2                  0.0             0.0             0.0        0.0    0.703598   \n",
       "3                  1.0             0.0             0.0        0.0    0.731790   \n",
       "4                  0.0             0.0             1.0        0.0    0.000000   \n",
       "\n",
       "   getKLDivergence  label  \n",
       "0         0.208089    1.0  \n",
       "1         0.307745    1.0  \n",
       "2         0.120364    0.0  \n",
       "3         0.199834    0.0  \n",
       "4         0.684425    0.0  \n",
       "\n",
       "[5 rows x 27 columns]"
      ]
     },
     "execution_count": 66,
     "metadata": {},
     "output_type": "execute_result"
    }
   ],
   "source": [
    "allFeatures_scaled.head()"
   ]
  },
  {
   "cell_type": "code",
   "execution_count": 67,
   "metadata": {},
   "outputs": [
    {
     "name": "stderr",
     "output_type": "stream",
     "text": [
      "/Applications/anaconda/lib/python3.6/site-packages/ipykernel_launcher.py:3: MatplotlibDeprecationWarning: The set_axis_bgcolor function was deprecated in version 2.0. Use set_facecolor instead.\n",
      "  This is separate from the ipykernel package so we can avoid doing imports until\n"
     ]
    },
    {
     "data": {
      "image/png": "[encoded data removed]",
      "text/plain": [
       "<matplotlib.figure.Figure at 0x11dfff240>"
      ]
     },
     "metadata": {},
     "output_type": "display_data"
    }
   ],
   "source": [
    "f, ax = plt.subplots(figsize=(10, 30))\n",
    "\n",
    "ax.set_axis_bgcolor('#FFFFFF')\n",
    "plt.title(\"Box Plot URL Features Scaled\")\n",
    "ax.set(xlim=(0.01, 10))\n",
    "ax = sns.boxplot(data = allFeatures[1:27], \n",
    "  orient = 'h', \n",
    "  palette = 'Set3')"
   ]
  },
  {
   "cell_type": "markdown",
   "metadata": {},
   "source": [
    "### Using Random Forest to further evaluate predictors and also created a model to ran the predictors "
   ]
  },
  {
   "cell_type": "code",
   "execution_count": 68,
   "metadata": {
    "collapsed": true
   },
   "outputs": [],
   "source": [
    "RFm = ek.RandomForestClassifier(random_state = 42, \n",
    "                                criterion='gini',\n",
    "                                n_estimators = 500,\n",
    "                                max_features = 5)"
   ]
  },
  {
   "cell_type": "markdown",
   "metadata": {},
   "source": [
    "### Dropped the features that generate Non numeric values during median based scaling."
   ]
  },
  {
   "cell_type": "code",
   "execution_count": 69,
   "metadata": {
    "collapsed": true
   },
   "outputs": [],
   "source": [
    "#sns.boxplot(x='label', y='Presence_Of_Suspicious_Domain', data=allFeatures)"
   ]
  },
  {
   "cell_type": "code",
   "execution_count": 70,
   "metadata": {
    "collapsed": true
   },
   "outputs": [],
   "source": [
    "X1= allFeatures.drop(['url','label','Presence_Of_AT','Presence_Of_Suspicious_Domain','Presence_Of_Suspicious_TLD',],axis=1)\n"
   ]
  },
  {
   "cell_type": "code",
   "execution_count": 71,
   "metadata": {},
   "outputs": [
    {
     "data": {
      "text/plain": [
       "RandomForestClassifier(bootstrap=True, class_weight=None, criterion='gini',\n",
       "            max_depth=None, max_features=5, max_leaf_nodes=None,\n",
       "            min_impurity_decrease=0.0, min_impurity_split=None,\n",
       "            min_samples_leaf=1, min_samples_split=2,\n",
       "            min_weight_fraction_leaf=0.0, n_estimators=500, n_jobs=1,\n",
       "            oob_score=False, random_state=42, verbose=0, warm_start=False)"
      ]
     },
     "execution_count": 71,
     "metadata": {},
     "output_type": "execute_result"
    }
   ],
   "source": [
    "RFm.fit(X1,y)"
   ]
  },
  {
   "cell_type": "code",
   "execution_count": 72,
   "metadata": {},
   "outputs": [
    {
     "data": {
      "text/plain": [
       "array([21, 20, 14, 10,  6, 13,  9, 12,  8,  0,  1,  2,  3, 17, 11,  5, 16,\n",
       "       18, 19, 15,  4,  7])"
      ]
     },
     "execution_count": 72,
     "metadata": {},
     "output_type": "execute_result"
    }
   ],
   "source": [
    "### Calculating the info gain for each feature. \n",
    "high_info_gain = RFm.feature_importances_\n",
    "index_ig = np.argsort(high_info_gain)[::-1]\n",
    "index_ig"
   ]
  },
  {
   "cell_type": "code",
   "execution_count": 73,
   "metadata": {},
   "outputs": [
    {
     "data": {
      "text/plain": [
       "['nameserver_count',\n",
       " 'url_redirect_count',\n",
       " 'DotsInUrl',\n",
       " 'countdelim',\n",
       " 'DotsInSubdomain',\n",
       " 'Presence_Of_hyphen',\n",
       " 'URLLength',\n",
       " 'Presence_Of_double_slash',\n",
       " 'No_Of_Subdir',\n",
       " 'No_Of_SubDomain',\n",
       " 'DomainLength',\n",
       " 'No_Of_Queries',\n",
       " 'isIP',\n",
       " 'No_Of_special_chars',\n",
       " 'ratio_special_chars',\n",
       " 'isMultipleDomains',\n",
       " 'topLevelDomainCount',\n",
       " 'suspicousWords',\n",
       " 'digitsInDomain',\n",
       " 'isLongURL',\n",
       " 'getEntropy',\n",
       " 'getKLDivergence']"
      ]
     },
     "execution_count": 73,
     "metadata": {},
     "output_type": "execute_result"
    }
   ],
   "source": [
    "temp= allFeatures.drop(['url','label','Presence_Of_AT','Presence_Of_Suspicious_Domain','Presence_Of_Suspicious_TLD'],axis=1)\n",
    "featuresOnly=allFeatures.drop(['url','Presence_Of_AT','Presence_Of_Suspicious_Domain','Presence_Of_Suspicious_TLD'],axis=1)\n",
    "\n",
    "predictor_names=temp.columns.tolist()\n",
    "predictor_names"
   ]
  },
  {
   "cell_type": "markdown",
   "metadata": {},
   "source": [
    "### Generating predictors from features that can impact he Naive Bayes Model Better"
   ]
  },
  {
   "cell_type": "code",
   "execution_count": 74,
   "metadata": {},
   "outputs": [
    {
     "data": {
      "text/plain": [
       "{'DomainLength': 0.0,\n",
       " 'DotsInSubdomain': 0.0,\n",
       " 'DotsInUrl': 0.0,\n",
       " 'No_Of_Queries': 0.0,\n",
       " 'No_Of_SubDomain': 0.038461538461538464,\n",
       " 'No_Of_Subdir': 0.066666666666666666,\n",
       " 'No_Of_special_chars': 0.0060606060606060606,\n",
       " 'Presence_Of_double_slash': 0.0,\n",
       " 'Presence_Of_hyphen': 0.0,\n",
       " 'URLLength': 0.01171875,\n",
       " 'countdelim': 0.0,\n",
       " 'digitsInDomain': 0.0,\n",
       " 'getEntropy': 0.017714634839454756,\n",
       " 'getKLDivergence': 0.012529527643127043,\n",
       " 'isIP': 0.066666666666666666,\n",
       " 'isLongURL': 0.0,\n",
       " 'isMultipleDomains': 0.0,\n",
       " 'nameserver_count': 0.15384615384615385,\n",
       " 'ratio_special_chars': 0.045726637845028284,\n",
       " 'suspicousWords': 0.0,\n",
       " 'topLevelDomainCount': 1.0,\n",
       " 'url_redirect_count': 0.0}"
      ]
     },
     "execution_count": 74,
     "metadata": {},
     "output_type": "execute_result"
    }
   ],
   "source": [
    "def rank_predictors(featuresOnly,l,f='label'):\n",
    "    rank={}\n",
    "    max_vals=featuresOnly.max()\n",
    "    median_vals=featuresOnly.groupby(f).median()  \n",
    "    for p in l:\n",
    "        score=np.abs((median_vals[p][0]-median_vals[p][1])/max_vals[p])\n",
    "        rank[p]=score\n",
    "    return rank\n",
    "cat_rank=rank_predictors(featuresOnly,predictor_names) \n",
    "cat_rank"
   ]
  },
  {
   "cell_type": "code",
   "execution_count": 75,
   "metadata": {},
   "outputs": [
    {
     "data": {
      "text/plain": [
       "[('url_redirect_count', 0.0),\n",
       " ('DotsInUrl', 0.0),\n",
       " ('countdelim', 0.0),\n",
       " ('DotsInSubdomain', 0.0),\n",
       " ('Presence_Of_hyphen', 0.0),\n",
       " ('Presence_Of_double_slash', 0.0),\n",
       " ('DomainLength', 0.0),\n",
       " ('No_Of_Queries', 0.0),\n",
       " ('isMultipleDomains', 0.0),\n",
       " ('suspicousWords', 0.0),\n",
       " ('digitsInDomain', 0.0),\n",
       " ('isLongURL', 0.0),\n",
       " ('No_Of_special_chars', 0.0060606060606060606),\n",
       " ('URLLength', 0.01171875),\n",
       " ('getKLDivergence', 0.012529527643127043),\n",
       " ('getEntropy', 0.017714634839454756),\n",
       " ('No_Of_SubDomain', 0.038461538461538464),\n",
       " ('ratio_special_chars', 0.045726637845028284),\n",
       " ('No_Of_Subdir', 0.066666666666666666),\n",
       " ('isIP', 0.066666666666666666),\n",
       " ('nameserver_count', 0.15384615384615385),\n",
       " ('topLevelDomainCount', 1.0)]"
      ]
     },
     "execution_count": 75,
     "metadata": {},
     "output_type": "execute_result"
    }
   ],
   "source": [
    "cat_rank=sorted(cat_rank.items(), key=lambda x: x[1])\n",
    "cat_rank"
   ]
  },
  {
   "cell_type": "code",
   "execution_count": 76,
   "metadata": {},
   "outputs": [
    {
     "data": {
      "text/plain": [
       "['No_Of_special_chars',\n",
       " 'URLLength',\n",
       " 'getKLDivergence',\n",
       " 'getEntropy',\n",
       " 'No_Of_SubDomain',\n",
       " 'ratio_special_chars',\n",
       " 'No_Of_Subdir',\n",
       " 'isIP',\n",
       " 'nameserver_count',\n",
       " 'topLevelDomainCount']"
      ]
     },
     "execution_count": 76,
     "metadata": {},
     "output_type": "execute_result"
    }
   ],
   "source": [
    "ranked_predictors=[]\n",
    "for f in cat_rank[12:]:\n",
    "    ranked_predictors.append(f[0])\n",
    "ranked_predictors"
   ]
  },
  {
   "cell_type": "code",
   "execution_count": 77,
   "metadata": {},
   "outputs": [
    {
     "name": "stdout",
     "output_type": "stream",
     "text": [
      "[21 20 14 10  6 13  9 12  8  0  1  2  3 17 11  5 16 18 19 15  4  7]\n",
      "22\n"
     ]
    }
   ],
   "source": [
    "high_info_gain = RFm.feature_importances_\n",
    "index_ig = np.argsort(high_info_gain)[::-1]\n",
    "print(index_ig)\n",
    "\n",
    "print(len(predictor_names))"
   ]
  },
  {
   "cell_type": "code",
   "execution_count": 78,
   "metadata": {},
   "outputs": [
    {
     "name": "stdout",
     "output_type": "stream",
     "text": [
      "Feature ranking:\n",
      "1. The feature 'getKLDivergence'     has a Information Gain of 0.118397\n",
      "2. The feature 'getEntropy'     has a Information Gain of 0.116142\n",
      "3. The feature 'ratio_special_chars'     has a Information Gain of 0.110657\n",
      "4. The feature 'DomainLength'     has a Information Gain of 0.106932\n",
      "5. The feature 'URLLength'     has a Information Gain of 0.093771\n",
      "6. The feature 'No_Of_special_chars'     has a Information Gain of 0.057034\n",
      "7. The feature 'No_Of_SubDomain'     has a Information Gain of 0.052635\n",
      "8. The feature 'isIP'     has a Information Gain of 0.043149\n",
      "9. The feature 'No_Of_Subdir'     has a Information Gain of 0.041936\n",
      "10. The feature 'nameserver_count'     has a Information Gain of 0.041012\n",
      "11. The feature 'url_redirect_count'     has a Information Gain of 0.037323\n",
      "12. The feature 'DotsInUrl'     has a Information Gain of 0.032823\n",
      "13. The feature 'countdelim'     has a Information Gain of 0.027940\n",
      "14. The feature 'suspicousWords'     has a Information Gain of 0.027278\n",
      "15. The feature 'No_Of_Queries'     has a Information Gain of 0.021728\n",
      "16. The feature 'Presence_Of_hyphen'     has a Information Gain of 0.015919\n",
      "17. The feature 'topLevelDomainCount'     has a Information Gain of 0.015907\n",
      "18. The feature 'digitsInDomain'     has a Information Gain of 0.014770\n",
      "19. The feature 'isLongURL'     has a Information Gain of 0.010573\n",
      "20. The feature 'isMultipleDomains'     has a Information Gain of 0.008291\n",
      "21. The feature 'DotsInSubdomain'     has a Information Gain of 0.005280\n",
      "22. The feature 'Presence_Of_double_slash'     has a Information Gain of 0.000502\n"
     ]
    }
   ],
   "source": [
    "# Print the feature ranking\n",
    "print(\"Feature ranking:\")\n",
    "ranked_predictors_RF=[]\n",
    "for f in range(len(predictor_names)):\n",
    "    i = f\n",
    "    if i < len(ranked_predictors):\n",
    "        ranked_predictors_RF.append(predictor_names[index_ig[i]])  \n",
    "    print(\"%d. The feature '%s' \\\n",
    "    has a Information Gain of %f\" % (f + 1,\n",
    "                predictor_names[index_ig[i]],\n",
    "                high_info_gain[index_ig[f]]))"
   ]
  },
  {
   "cell_type": "code",
   "execution_count": 79,
   "metadata": {},
   "outputs": [
    {
     "name": "stdout",
     "output_type": "stream",
     "text": [
      "['No_Of_special_chars', 'URLLength', 'getKLDivergence', 'getEntropy', 'No_Of_SubDomain', 'ratio_special_chars', 'No_Of_Subdir', 'isIP', 'nameserver_count', 'topLevelDomainCount']\n",
      "['getKLDivergence', 'getEntropy', 'ratio_special_chars', 'DomainLength', 'URLLength', 'No_Of_special_chars', 'No_Of_SubDomain', 'isIP', 'No_Of_Subdir', 'nameserver_count']\n"
     ]
    }
   ],
   "source": [
    "print (ranked_predictors)\n",
    "print (ranked_predictors_RF)"
   ]
  },
  {
   "cell_type": "code",
   "execution_count": 80,
   "metadata": {},
   "outputs": [
    {
     "name": "stdout",
     "output_type": "stream",
     "text": [
      "['No_Of_special_chars', 'URLLength', 'getKLDivergence', 'getEntropy', 'No_Of_SubDomain', 'ratio_special_chars', 'No_Of_Subdir', 'isIP', 'nameserver_count', 'topLevelDomainCount', 'DomainLength']\n",
      "11\n"
     ]
    }
   ],
   "source": [
    "# Lets combine the Random Forest and median difference rankings.\n",
    "# Note that they are largely in agreement as only 2 were added to the original list of 12\n",
    "for p in ranked_predictors_RF:\n",
    "    if p not in ranked_predictors:\n",
    "        ranked_predictors.append(p)\n",
    "print (ranked_predictors)\n",
    "print (len(ranked_predictors))"
   ]
  },
  {
   "cell_type": "code",
   "execution_count": 81,
   "metadata": {},
   "outputs": [
    {
     "name": "stdout",
     "output_type": "stream",
     "text": [
      "['No_Of_special_chars', 'URLLength', 'getKLDivergence', 'getEntropy', 'No_Of_SubDomain', 'ratio_special_chars', 'No_Of_Subdir', 'isIP', 'nameserver_count', 'topLevelDomainCount', 'DomainLength']\n",
      "['label', 'No_Of_special_chars', 'URLLength', 'getKLDivergence', 'getEntropy', 'No_Of_SubDomain', 'ratio_special_chars', 'No_Of_Subdir', 'isIP', 'nameserver_count', 'topLevelDomainCount', 'DomainLength']\n"
     ]
    },
    {
     "data": {
      "text/html": [
       "<div>\n",
       "<style>\n",
       "    .dataframe thead tr:only-child th {\n",
       "        text-align: right;\n",
       "    }\n",
       "\n",
       "    .dataframe thead th {\n",
       "        text-align: left;\n",
       "    }\n",
       "\n",
       "    .dataframe tbody tr th {\n",
       "        vertical-align: top;\n",
       "    }\n",
       "</style>\n",
       "<table border=\"1\" class=\"dataframe\">\n",
       "  <thead>\n",
       "    <tr style=\"text-align: right;\">\n",
       "      <th></th>\n",
       "      <th>label</th>\n",
       "      <th>No_Of_special_chars</th>\n",
       "      <th>URLLength</th>\n",
       "      <th>getKLDivergence</th>\n",
       "      <th>getEntropy</th>\n",
       "      <th>No_Of_SubDomain</th>\n",
       "      <th>ratio_special_chars</th>\n",
       "      <th>No_Of_Subdir</th>\n",
       "      <th>isIP</th>\n",
       "      <th>nameserver_count</th>\n",
       "      <th>topLevelDomainCount</th>\n",
       "      <th>DomainLength</th>\n",
       "    </tr>\n",
       "  </thead>\n",
       "  <tbody>\n",
       "    <tr>\n",
       "      <th>0</th>\n",
       "      <td>1</td>\n",
       "      <td>7</td>\n",
       "      <td>31</td>\n",
       "      <td>0.602829</td>\n",
       "      <td>2.630555</td>\n",
       "      <td>1</td>\n",
       "      <td>0.225806</td>\n",
       "      <td>1</td>\n",
       "      <td>1</td>\n",
       "      <td>2.0</td>\n",
       "      <td>0</td>\n",
       "      <td>23</td>\n",
       "    </tr>\n",
       "    <tr>\n",
       "      <th>1</th>\n",
       "      <td>1</td>\n",
       "      <td>5</td>\n",
       "      <td>21</td>\n",
       "      <td>0.867503</td>\n",
       "      <td>1.986732</td>\n",
       "      <td>0</td>\n",
       "      <td>0.238095</td>\n",
       "      <td>1</td>\n",
       "      <td>1</td>\n",
       "      <td>2.0</td>\n",
       "      <td>0</td>\n",
       "      <td>9</td>\n",
       "    </tr>\n",
       "    <tr>\n",
       "      <th>2</th>\n",
       "      <td>0</td>\n",
       "      <td>5</td>\n",
       "      <td>27</td>\n",
       "      <td>0.369844</td>\n",
       "      <td>2.563151</td>\n",
       "      <td>0</td>\n",
       "      <td>0.185185</td>\n",
       "      <td>1</td>\n",
       "      <td>1</td>\n",
       "      <td>2.0</td>\n",
       "      <td>0</td>\n",
       "      <td>19</td>\n",
       "    </tr>\n",
       "    <tr>\n",
       "      <th>3</th>\n",
       "      <td>0</td>\n",
       "      <td>8</td>\n",
       "      <td>45</td>\n",
       "      <td>0.580907</td>\n",
       "      <td>2.624194</td>\n",
       "      <td>1</td>\n",
       "      <td>0.177778</td>\n",
       "      <td>2</td>\n",
       "      <td>2</td>\n",
       "      <td>2.0</td>\n",
       "      <td>1</td>\n",
       "      <td>18</td>\n",
       "    </tr>\n",
       "    <tr>\n",
       "      <th>4</th>\n",
       "      <td>0</td>\n",
       "      <td>7</td>\n",
       "      <td>23</td>\n",
       "      <td>1.867919</td>\n",
       "      <td>1.039721</td>\n",
       "      <td>0</td>\n",
       "      <td>0.304348</td>\n",
       "      <td>1</td>\n",
       "      <td>1</td>\n",
       "      <td>0.0</td>\n",
       "      <td>0</td>\n",
       "      <td>15</td>\n",
       "    </tr>\n",
       "  </tbody>\n",
       "</table>\n",
       "</div>"
      ],
      "text/plain": [
       "   label  No_Of_special_chars  URLLength  getKLDivergence  getEntropy  \\\n",
       "0      1                    7         31         0.602829    2.630555   \n",
       "1      1                    5         21         0.867503    1.986732   \n",
       "2      0                    5         27         0.369844    2.563151   \n",
       "3      0                    8         45         0.580907    2.624194   \n",
       "4      0                    7         23         1.867919    1.039721   \n",
       "\n",
       "   No_Of_SubDomain  ratio_special_chars  No_Of_Subdir  isIP  nameserver_count  \\\n",
       "0                1             0.225806             1     1               2.0   \n",
       "1                0             0.238095             1     1               2.0   \n",
       "2                0             0.185185             1     1               2.0   \n",
       "3                1             0.177778             2     2               2.0   \n",
       "4                0             0.304348             1     1               0.0   \n",
       "\n",
       "   topLevelDomainCount  DomainLength  \n",
       "0                    0            23  \n",
       "1                    0             9  \n",
       "2                    0            19  \n",
       "3                    1            18  \n",
       "4                    0            15  "
      ]
     },
     "execution_count": 81,
     "metadata": {},
     "output_type": "execute_result"
    }
   ],
   "source": [
    "print (ranked_predictors)\n",
    "i=['label']\n",
    "#ranked_predictors\n",
    "i=i+ranked_predictors\n",
    "print (i)\n",
    "featuresOnly_ranked=featuresOnly[i]\n",
    "# convert diagnosis to a numeric variable to create a numeric dependent variable\n",
    "\n",
    "featuresOnly_ranked.head()"
   ]
  },
  {
   "cell_type": "code",
   "execution_count": 82,
   "metadata": {},
   "outputs": [
    {
     "data": {
      "text/plain": [
       "<matplotlib.axes._subplots.AxesSubplot at 0x11b8b1978>"
      ]
     },
     "execution_count": 82,
     "metadata": {},
     "output_type": "execute_result"
    },
    {
     "data": {
      "image/png": "[encoded data removed]",
      "text/plain": [
       "<matplotlib.figure.Figure at 0x11c4c7080>"
      ]
     },
     "metadata": {},
     "output_type": "display_data"
    }
   ],
   "source": [
    "corr = featuresOnly_ranked.corr(method = 'pearson') # Correlation Matrix\n",
    "\n",
    "f, ax = plt.subplots(figsize=(11, 9))\n",
    "\n",
    "# Generate a custom diverging colormap\n",
    "cmap = sns.diverging_palette(10, 275, as_cmap=True)\n",
    "\n",
    "\n",
    "# Draw the heatmap with the mask and correct aspect ratio\n",
    "sns.heatmap(corr,  cmap=cmap,square=True, \n",
    "            xticklabels=True, yticklabels=True,\n",
    "            linewidths=.5, cbar_kws={\"shrink\": .5}, ax=ax)"
   ]
  },
  {
   "cell_type": "code",
   "execution_count": 83,
   "metadata": {},
   "outputs": [
    {
     "data": {
      "text/plain": [
       "label                  1.000000\n",
       "No_Of_special_chars   -0.047094\n",
       "URLLength              0.032721\n",
       "getKLDivergence       -0.074746\n",
       "getEntropy             0.111303\n",
       "No_Of_SubDomain       -0.046998\n",
       "ratio_special_chars   -0.224160\n",
       "No_Of_Subdir           0.136073\n",
       "isIP                   0.136073\n",
       "nameserver_count      -0.130878\n",
       "topLevelDomainCount    0.097190\n",
       "DomainLength           0.127677\n",
       "Name: label, dtype: float64"
      ]
     },
     "execution_count": 83,
     "metadata": {},
     "output_type": "execute_result"
    },
    {
     "data": {
      "image/png": "[encoded data removed]",
      "text/plain": [
       "<matplotlib.figure.Figure at 0x121ab4dd8>"
      ]
     },
     "metadata": {},
     "output_type": "display_data"
    }
   ],
   "source": [
    "featuresOnly_ranked.corr()[\"label\"].plot(kind=\"bar\")\n",
    "featuresOnly_ranked.corr()[\"label\"]"
   ]
  },
  {
   "cell_type": "code",
   "execution_count": 84,
   "metadata": {
    "collapsed": true
   },
   "outputs": [],
   "source": [
    "from sklearn.cross_validation import KFold, cross_val_score, train_test_split\n",
    "from sklearn.metrics import f1_score,precision_score,recall_score"
   ]
  },
  {
   "cell_type": "code",
   "execution_count": 85,
   "metadata": {
    "collapsed": true
   },
   "outputs": [],
   "source": [
    "X = featuresOnly_ranked[ranked_predictors]\n",
    "#setting target\n",
    "y = featuresOnly_ranked[\"label\"]"
   ]
  },
  {
   "cell_type": "code",
   "execution_count": 86,
   "metadata": {},
   "outputs": [
    {
     "name": "stdout",
     "output_type": "stream",
     "text": [
      "KfoldCrossVal mean score using Naive Bayes is 0.68926942975\n",
      "0.620850208401\n",
      "0.617343711312\n",
      "0.644884078383\n",
      "Accuracy score using Naive Bayes is 0.681772658988\n"
     ]
    }
   ],
   "source": [
    "# setting Naive Bayes classifier\n",
    "nb = GaussianNB()\n",
    "\n",
    "#dividing data to have a training and a testing set\n",
    "X_train, X_test, y_train, y_test = train_test_split(X, y, test_size= .4, random_state=0)\n",
    "\n",
    "# Naive Bayes cross validation\n",
    "Kfold = KFold(len(featuresOnly_ranked), n_folds=5, shuffle=False)\n",
    "print(\"KfoldCrossVal mean score using Naive Bayes is %s\" %cross_val_score(nb,X,y,cv=10).mean())\n",
    "\n",
    "# Naive Bayes metrics\n",
    "NBm = nb.fit(X_train, y_train)\n",
    "\n",
    "y_pred = NBm.predict(X_test)\n",
    "\n",
    "print(f1_score(y_test, y_pred, average=\"macro\"))\n",
    "print(precision_score(y_test, y_pred, average=\"macro\"))\n",
    "print(recall_score(y_test, y_pred, average=\"macro\"))    \n",
    "print(\"Accuracy score using Naive Bayes is %s\" %metrics.accuracy_score(y_test, y_pred))"
   ]
  },
  {
   "cell_type": "code",
   "execution_count": 89,
   "metadata": {},
   "outputs": [
    {
     "name": "stdout",
     "output_type": "stream",
     "text": [
      "KfoldCrossVal mean score using Naive Bayes is 0.759691454982\n",
      "0.566433080847\n",
      "0.652866356019\n",
      "0.566517814823\n",
      "Accuracy score using Naive Bayes is 0.758888332499\n"
     ]
    }
   ],
   "source": [
    "# setting Naive Bayes classifier\n",
    "mb = MultinomialNB()\n",
    "\n",
    "#dividing data to have a training and a testing set\n",
    "X_train, X_test, y_train, y_test = train_test_split(X, y, test_size= .4, random_state=0)\n",
    "\n",
    "# Naive Bayes cross validation\n",
    "Kfold = KFold(len(featuresOnly_ranked), n_folds=5, shuffle=False)\n",
    "print(\"KfoldCrossVal mean score using Naive Bayes is %s\" %cross_val_score(mb,X,y,cv=10).mean())\n",
    "\n",
    "# Naive Bayes metrics\n",
    "NBm = mb.fit(X_train, y_train)\n",
    "\n",
    "y_pred = NBm.predict(X_test)\n",
    "print(f1_score(y_test, y_pred, average=\"macro\"))\n",
    "print(precision_score(y_test, y_pred, average=\"macro\"))\n",
    "print(recall_score(y_test, y_pred, average=\"macro\"))    \n",
    "print(\"Accuracy score using Naive Bayes is %s\" %metrics.accuracy_score(y_test, y_pred))"
   ]
  },
  {
   "cell_type": "code",
   "execution_count": 184,
   "metadata": {
    "collapsed": true
   },
   "outputs": [],
   "source": [
    "X = featuresOnly_ranked[ranked_predictors]\n",
    "#setting target\n",
    "y = featuresOnly_ranked[\"label\"]"
   ]
  },
  {
   "cell_type": "code",
   "execution_count": 130,
   "metadata": {},
   "outputs": [
    {
     "name": "stdout",
     "output_type": "stream",
     "text": [
      "DecisionTree \n",
      "[1]\n",
      "RandomForest \n",
      "[1]\n",
      "GNB \n",
      "[1]\n",
      "LogisticRegression \n",
      "[1]\n"
     ]
    }
   ],
   "source": [
    "for algo in model:\n",
    "    print (\"%s \" %(algo))\n",
    "    clf = model[algo]\n",
    "    result =pd.DataFrame(columns=('url','DotsInUrl','countdelim','DotsInSubdomain','Presence_Of_hyphen','URLLength','Presence_Of_AT',\\\n",
    "'Presence_Of_double_slash','No_Of_Subdir','No_Of_SubDomain','DomainLength','No_Of_Queries','Presence_Of_Suspicious_TLD',\\\n",
    "'Presence_Of_Suspicious_Domain','No_Of_special_chars','ratio_special_chars','isMultipleDomains','topLevelDomainCount','suspicousWords',\\\n",
    " 'digitsInDomain','isLongURL','getEntropy','getKLDivergence' ,'label'))\n",
    "    results = getFeaturesLexicalTest('http://clubdasjoaninhas.com/Sip/Indexxatt.htm', '1')\n",
    "    result.loc[0] = results\n",
    "    result['isip']=0\n",
    "    result['nameserver_count']=2\n",
    "    result['url_redirect_count']=3\n",
    "    result = result.drop(['url','label'],axis=1).values\n",
    "    print(clf.predict(result))"
   ]
  },
  {
   "cell_type": "markdown",
   "metadata": {},
   "source": [
    "### TF-IDF on the URLS and generating the vectors"
   ]
  },
  {
   "cell_type": "code",
   "execution_count": 65,
   "metadata": {
    "collapsed": true
   },
   "outputs": [],
   "source": [
    "from sklearn.feature_extraction.text import TfidfVectorizer"
   ]
  },
  {
   "cell_type": "code",
   "execution_count": 66,
   "metadata": {
    "collapsed": true
   },
   "outputs": [],
   "source": [
    "def getTokens(input1):\n",
    "    tokensBySlash = str(input1).split('/')#get tokens after splitting by slash\n",
    "    allTokens = []\n",
    "    for i in tokensBySlash:\n",
    "       \n",
    "        tokens = str(i).split('-')#get tokens after splitting by dash\n",
    "        tokensByDot = []\n",
    "        for j in range(0,len(tokens)):\n",
    "            tempTokens = str(tokens[j]).split('.')         #get tokens after splitting by dot\n",
    "            tokensByDot = tokensByDot + tempTokens\n",
    "        allTokens = allTokens + tokens + tokensByDot\n",
    "    allTokens = list(set(allTokens))#remove redundant tokens\n",
    "   \n",
    "    for extension in ['com','php','js','gif','jpg','png']:\n",
    "        if extension in allTokens:\n",
    "            allTokens.remove(extension)\n",
    "    return allTokens\n",
    " \n"
   ]
  },
  {
   "cell_type": "code",
   "execution_count": 152,
   "metadata": {
    "collapsed": true
   },
   "outputs": [],
   "source": [
    " \n",
    "##following code is creating a vectorizer from url data.\n",
    "df=pd.read_csv(path +\"sample_500k.csv\")\n",
    "#X_train, X_test, y_train, y_test = train_test_split(data, data[\"malicious\"], test_size=0.1, random_state=42)\n",
    "vectorizer = TfidfVectorizer(tokenizer=getTokens) #get a vector for each url but use our customized tokenizer\n",
    "X = vectorizer.fit_transform(df[\"url\"])\n",
    "y = df[\"malicious\"]"
   ]
  },
  {
   "cell_type": "code",
   "execution_count": 146,
   "metadata": {
    "collapsed": true
   },
   "outputs": [],
   "source": [
    "#print(X.data)\n",
    "#print(X)"
   ]
  },
  {
   "cell_type": "code",
   "execution_count": 153,
   "metadata": {},
   "outputs": [
    {
     "name": "stdout",
     "output_type": "stream",
     "text": [
      "0.906985\n"
     ]
    }
   ],
   "source": [
    "lr = LogisticRegression()\n",
    "\n",
    "#dividing data to have a training and a testing set\n",
    "X_train, X_test, y_train, y_test = train_test_split(X, y, test_size= .4, random_state=0)\n",
    "\n",
    "# Logistic regression cross validation\n",
    "Kfold = KFold(len(ranked_predictors), n_folds=5, shuffle=False)\n",
    "print(\"KfoldCrossVal mean score using Logistic regression is %s\" %cross_val_score(lr,X,y,cv=10).mean())\n",
    "\n",
    "# Logistic regression metrics\n",
    "LRm = lr.fit(X_train, y_train)\n",
    "print(LRm.score(X_test,y_test))\n",
    "#LRm.predict_proba(X_test)  # The returned estimates for all classes are ordered by the label of classes"
   ]
  },
  {
   "cell_type": "code",
   "execution_count": null,
   "metadata": {
    "collapsed": true
   },
   "outputs": [],
   "source": []
  }
 ],
 "metadata": {
  "kernelspec": {
   "display_name": "Python 3",
   "language": "python",
   "name": "python3"
  },
  "language_info": {
   "codemirror_mode": {
    "name": "ipython",
    "version": 3
   },
   "file_extension": ".py",
   "mimetype": "text/x-python",
   "name": "python",
   "nbconvert_exporter": "python",
   "pygments_lexer": "ipython3",
   "version": "3.6.1"
  }
 },
 "nbformat": 4,
 "nbformat_minor": 2
}
